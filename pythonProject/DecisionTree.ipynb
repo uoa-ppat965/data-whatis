{
 "cells": [
  {
   "cell_type": "markdown",
   "metadata": {
    "pycharm": {
     "name": "#%% md\n"
    }
   },
   "source": [
    "# Decision Tree"
   ]
  },
  {
   "cell_type": "code",
   "execution_count": 520,
   "metadata": {
    "pycharm": {
     "name": "#%%\n"
    }
   },
   "outputs": [],
   "source": [
    "#Add libraries\n",
    "import numpy as np\n",
    "import pandas as pd\n",
    "import matplotlib.pyplot as plt\n",
    "import seaborn as sns\n",
    "\n",
    "from sklearn.model_selection import train_test_split, cross_val_score\n",
    "from sklearn.preprocessing import LabelEncoder\n",
    "from sklearn import tree\n",
    "from sklearn.metrics import accuracy_score, confusion_matrix,classification_report, roc_curve, roc_auc_score\n",
    "\n",
    "%matplotlib inline\n",
    "\n",
    "import warnings\n",
    "warnings.filterwarnings('ignore')"
   ]
  },
  {
   "cell_type": "code",
   "execution_count": 521,
   "metadata": {
    "pycharm": {
     "name": "#%%\n"
    }
   },
   "outputs": [
    {
     "data": {
      "text/plain": "      id  gender   age  hypertension  heart_disease ever_married  \\\n0   9046    Male  67.0             0              1          Yes   \n1  51676  Female  61.0             0              0          Yes   \n2  31112    Male  80.0             0              1          Yes   \n3  60182  Female  49.0             0              0          Yes   \n4   1665  Female  79.0             1              0          Yes   \n\n       work_type Residence_type  avg_glucose_level   bmi   smoking_status  \\\n0        Private          Urban             228.69  36.6  formerly smoked   \n1  Self-employed          Rural             202.21   NaN     never smoked   \n2        Private          Rural             105.92  32.5     never smoked   \n3        Private          Urban             171.23  34.4           smokes   \n4  Self-employed          Rural             174.12  24.0     never smoked   \n\n   stroke  \n0       1  \n1       1  \n2       1  \n3       1  \n4       1  ",
      "text/html": "<div>\n<style scoped>\n    .dataframe tbody tr th:only-of-type {\n        vertical-align: middle;\n    }\n\n    .dataframe tbody tr th {\n        vertical-align: top;\n    }\n\n    .dataframe thead th {\n        text-align: right;\n    }\n</style>\n<table border=\"1\" class=\"dataframe\">\n  <thead>\n    <tr style=\"text-align: right;\">\n      <th></th>\n      <th>id</th>\n      <th>gender</th>\n      <th>age</th>\n      <th>hypertension</th>\n      <th>heart_disease</th>\n      <th>ever_married</th>\n      <th>work_type</th>\n      <th>Residence_type</th>\n      <th>avg_glucose_level</th>\n      <th>bmi</th>\n      <th>smoking_status</th>\n      <th>stroke</th>\n    </tr>\n  </thead>\n  <tbody>\n    <tr>\n      <th>0</th>\n      <td>9046</td>\n      <td>Male</td>\n      <td>67.0</td>\n      <td>0</td>\n      <td>1</td>\n      <td>Yes</td>\n      <td>Private</td>\n      <td>Urban</td>\n      <td>228.69</td>\n      <td>36.6</td>\n      <td>formerly smoked</td>\n      <td>1</td>\n    </tr>\n    <tr>\n      <th>1</th>\n      <td>51676</td>\n      <td>Female</td>\n      <td>61.0</td>\n      <td>0</td>\n      <td>0</td>\n      <td>Yes</td>\n      <td>Self-employed</td>\n      <td>Rural</td>\n      <td>202.21</td>\n      <td>NaN</td>\n      <td>never smoked</td>\n      <td>1</td>\n    </tr>\n    <tr>\n      <th>2</th>\n      <td>31112</td>\n      <td>Male</td>\n      <td>80.0</td>\n      <td>0</td>\n      <td>1</td>\n      <td>Yes</td>\n      <td>Private</td>\n      <td>Rural</td>\n      <td>105.92</td>\n      <td>32.5</td>\n      <td>never smoked</td>\n      <td>1</td>\n    </tr>\n    <tr>\n      <th>3</th>\n      <td>60182</td>\n      <td>Female</td>\n      <td>49.0</td>\n      <td>0</td>\n      <td>0</td>\n      <td>Yes</td>\n      <td>Private</td>\n      <td>Urban</td>\n      <td>171.23</td>\n      <td>34.4</td>\n      <td>smokes</td>\n      <td>1</td>\n    </tr>\n    <tr>\n      <th>4</th>\n      <td>1665</td>\n      <td>Female</td>\n      <td>79.0</td>\n      <td>1</td>\n      <td>0</td>\n      <td>Yes</td>\n      <td>Self-employed</td>\n      <td>Rural</td>\n      <td>174.12</td>\n      <td>24.0</td>\n      <td>never smoked</td>\n      <td>1</td>\n    </tr>\n  </tbody>\n</table>\n</div>"
     },
     "execution_count": 521,
     "metadata": {},
     "output_type": "execute_result"
    }
   ],
   "source": [
    "#Get data\n",
    "data = 'Data\\stroke-data.csv'\n",
    "df=pd.read_csv(data)\n",
    "df.head()"
   ]
  },
  {
   "cell_type": "code",
   "execution_count": 522,
   "metadata": {
    "pycharm": {
     "name": "#%%\n"
    }
   },
   "outputs": [
    {
     "name": "stdout",
     "output_type": "stream",
     "text": [
      "<class 'pandas.core.frame.DataFrame'>\n",
      "RangeIndex: 5110 entries, 0 to 5109\n",
      "Data columns (total 12 columns):\n",
      " #   Column             Non-Null Count  Dtype  \n",
      "---  ------             --------------  -----  \n",
      " 0   id                 5110 non-null   int64  \n",
      " 1   gender             5110 non-null   object \n",
      " 2   age                5110 non-null   float64\n",
      " 3   hypertension       5110 non-null   int64  \n",
      " 4   heart_disease      5110 non-null   int64  \n",
      " 5   ever_married       5110 non-null   object \n",
      " 6   work_type          5110 non-null   object \n",
      " 7   Residence_type     5110 non-null   object \n",
      " 8   avg_glucose_level  5110 non-null   float64\n",
      " 9   bmi                4909 non-null   float64\n",
      " 10  smoking_status     5110 non-null   object \n",
      " 11  stroke             5110 non-null   int64  \n",
      "dtypes: float64(3), int64(4), object(5)\n",
      "memory usage: 479.2+ KB\n"
     ]
    }
   ],
   "source": [
    "#View summary of dataset\n",
    "df.info()"
   ]
  },
  {
   "cell_type": "code",
   "execution_count": 523,
   "metadata": {
    "pycharm": {
     "name": "#%%\n"
    }
   },
   "outputs": [],
   "source": [
    "#Drop the unique ids\n",
    "df = df.drop(['id'], axis=1)"
   ]
  },
  {
   "cell_type": "code",
   "execution_count": 524,
   "metadata": {
    "pycharm": {
     "name": "#%%\n"
    }
   },
   "outputs": [
    {
     "name": "stdout",
     "output_type": "stream",
     "text": [
      "There are 5 categorical variables\n",
      "\n",
      "The categorical variables are:\n",
      "\n",
      " ['gender', 'ever_married', 'work_type', 'Residence_type', 'smoking_status']\n"
     ]
    }
   ],
   "source": [
    "#Find Categorical Variables\n",
    "categorical = [var for var in df.columns if df[var].dtype == 'object']\n",
    "\n",
    "print('There are {} categorical variables\\n'.format(len(categorical)))\n",
    "print('The categorical variables are:\\n\\n', categorical)"
   ]
  },
  {
   "cell_type": "code",
   "execution_count": 525,
   "metadata": {
    "pycharm": {
     "name": "#%%\n"
    }
   },
   "outputs": [
    {
     "data": {
      "text/plain": "   gender ever_married      work_type Residence_type   smoking_status\n0    Male          Yes        Private          Urban  formerly smoked\n1  Female          Yes  Self-employed          Rural     never smoked\n2    Male          Yes        Private          Rural     never smoked\n3  Female          Yes        Private          Urban           smokes\n4  Female          Yes  Self-employed          Rural     never smoked",
      "text/html": "<div>\n<style scoped>\n    .dataframe tbody tr th:only-of-type {\n        vertical-align: middle;\n    }\n\n    .dataframe tbody tr th {\n        vertical-align: top;\n    }\n\n    .dataframe thead th {\n        text-align: right;\n    }\n</style>\n<table border=\"1\" class=\"dataframe\">\n  <thead>\n    <tr style=\"text-align: right;\">\n      <th></th>\n      <th>gender</th>\n      <th>ever_married</th>\n      <th>work_type</th>\n      <th>Residence_type</th>\n      <th>smoking_status</th>\n    </tr>\n  </thead>\n  <tbody>\n    <tr>\n      <th>0</th>\n      <td>Male</td>\n      <td>Yes</td>\n      <td>Private</td>\n      <td>Urban</td>\n      <td>formerly smoked</td>\n    </tr>\n    <tr>\n      <th>1</th>\n      <td>Female</td>\n      <td>Yes</td>\n      <td>Self-employed</td>\n      <td>Rural</td>\n      <td>never smoked</td>\n    </tr>\n    <tr>\n      <th>2</th>\n      <td>Male</td>\n      <td>Yes</td>\n      <td>Private</td>\n      <td>Rural</td>\n      <td>never smoked</td>\n    </tr>\n    <tr>\n      <th>3</th>\n      <td>Female</td>\n      <td>Yes</td>\n      <td>Private</td>\n      <td>Urban</td>\n      <td>smokes</td>\n    </tr>\n    <tr>\n      <th>4</th>\n      <td>Female</td>\n      <td>Yes</td>\n      <td>Self-employed</td>\n      <td>Rural</td>\n      <td>never smoked</td>\n    </tr>\n  </tbody>\n</table>\n</div>"
     },
     "execution_count": 525,
     "metadata": {},
     "output_type": "execute_result"
    }
   ],
   "source": [
    "#view the categorical variables\n",
    "df[categorical].head()"
   ]
  },
  {
   "cell_type": "code",
   "execution_count": 526,
   "metadata": {
    "pycharm": {
     "name": "#%%\n"
    }
   },
   "outputs": [
    {
     "data": {
      "text/plain": "gender            0\never_married      0\nwork_type         0\nResidence_type    0\nsmoking_status    0\ndtype: int64"
     },
     "execution_count": 526,
     "metadata": {},
     "output_type": "execute_result"
    }
   ],
   "source": [
    "# Check missing values in categorical variables\n",
    "df[categorical].isnull().sum()"
   ]
  },
  {
   "cell_type": "code",
   "execution_count": 527,
   "metadata": {
    "pycharm": {
     "name": "#%%\n"
    }
   },
   "outputs": [
    {
     "name": "stdout",
     "output_type": "stream",
     "text": [
      "Female    2994\n",
      "Male      2115\n",
      "Other        1\n",
      "Name: gender, dtype: int64\n",
      "Yes    3353\n",
      "No     1757\n",
      "Name: ever_married, dtype: int64\n",
      "Private          2925\n",
      "Self-employed     819\n",
      "children          687\n",
      "Govt_job          657\n",
      "Never_worked       22\n",
      "Name: work_type, dtype: int64\n",
      "Urban    2596\n",
      "Rural    2514\n",
      "Name: Residence_type, dtype: int64\n",
      "never smoked       1892\n",
      "Unknown            1544\n",
      "formerly smoked     885\n",
      "smokes              789\n",
      "Name: smoking_status, dtype: int64\n"
     ]
    }
   ],
   "source": [
    "# View frequency counts of values in categorical variables\n",
    "for var in categorical:\n",
    "    print(df[var].value_counts())"
   ]
  },
  {
   "cell_type": "code",
   "execution_count": 528,
   "metadata": {
    "pycharm": {
     "name": "#%%\n"
    }
   },
   "outputs": [
    {
     "name": "stdout",
     "output_type": "stream",
     "text": [
      "Female    0.585910\n",
      "Male      0.413894\n",
      "Other     0.000196\n",
      "Name: gender, dtype: float64\n",
      "Yes    0.656164\n",
      "No     0.343836\n",
      "Name: ever_married, dtype: float64\n",
      "Private          0.572407\n",
      "Self-employed    0.160274\n",
      "children         0.134442\n",
      "Govt_job         0.128571\n",
      "Never_worked     0.004305\n",
      "Name: work_type, dtype: float64\n",
      "Urban    0.508023\n",
      "Rural    0.491977\n",
      "Name: Residence_type, dtype: float64\n",
      "never smoked       0.370254\n",
      "Unknown            0.302153\n",
      "formerly smoked    0.173190\n",
      "smokes             0.154403\n",
      "Name: smoking_status, dtype: float64\n"
     ]
    }
   ],
   "source": [
    "# View frequency distribution of categorical variables\n",
    "for var in categorical:\n",
    "    print(df[var].value_counts() / np.float(len(df)))"
   ]
  },
  {
   "cell_type": "markdown",
   "metadata": {
    "pycharm": {
     "name": "#%% md\n"
    }
   },
   "source": [
    "#### Explore smoking variables"
   ]
  },
  {
   "cell_type": "code",
   "execution_count": 529,
   "metadata": {
    "pycharm": {
     "name": "#%%\n"
    }
   },
   "outputs": [
    {
     "data": {
      "text/plain": "array(['formerly smoked', 'never smoked', 'smokes', 'Unknown'],\n      dtype=object)"
     },
     "execution_count": 529,
     "metadata": {},
     "output_type": "execute_result"
    }
   ],
   "source": [
    "# Check labels in smoke class\n",
    "df.smoking_status.unique()"
   ]
  },
  {
   "cell_type": "code",
   "execution_count": 530,
   "metadata": {
    "pycharm": {
     "name": "#%%\n"
    }
   },
   "outputs": [
    {
     "data": {
      "text/plain": "gender               0\never_married         0\nwork_type            0\nResidence_type       0\nsmoking_status    1544\ndtype: int64"
     },
     "execution_count": 530,
     "metadata": {},
     "output_type": "execute_result"
    }
   ],
   "source": [
    "#Replace 'Unknown' values in workclass variable with NaN\n",
    "df['smoking_status'].replace('Unknown', np.NaN, inplace=True)\n",
    "#Again check the frequency distribution of values in smoking status variable\n",
    "df.smoking_status.value_counts()\n",
    "df[categorical].isnull().sum()"
   ]
  },
  {
   "cell_type": "code",
   "execution_count": 531,
   "metadata": {
    "pycharm": {
     "name": "#%%\n"
    }
   },
   "outputs": [
    {
     "name": "stdout",
     "output_type": "stream",
     "text": [
      "gender contains 3 labels\n",
      "ever_married contains 2 labels\n",
      "work_type contains 5 labels\n",
      "Residence_type contains 2 labels\n",
      "smoking_status contains 4 labels\n"
     ]
    }
   ],
   "source": [
    "# Check for cardinality in categorical variables\n",
    "for var in categorical:\n",
    "    print(var, 'contains', len(df[var].unique()), 'labels')"
   ]
  },
  {
   "cell_type": "markdown",
   "metadata": {
    "pycharm": {
     "name": "#%% md\n"
    }
   },
   "source": [
    "#### Looking at Numerical Variables"
   ]
  },
  {
   "cell_type": "code",
   "execution_count": 532,
   "metadata": {
    "pycharm": {
     "name": "#%%\n"
    }
   },
   "outputs": [
    {
     "name": "stdout",
     "output_type": "stream",
     "text": [
      "There are 6 numerical variables\n",
      "\n",
      "The numerical variables are : ['age', 'hypertension', 'heart_disease', 'avg_glucose_level', 'bmi', 'stroke']\n"
     ]
    }
   ],
   "source": [
    "# Find numerical variables\n",
    "numerical = [var for var in df.columns if df[var].dtype != 'object']\n",
    "print('There are {} numerical variables\\n'.format(len(numerical)))\n",
    "print('The numerical variables are :', numerical)"
   ]
  },
  {
   "cell_type": "code",
   "execution_count": 533,
   "metadata": {
    "pycharm": {
     "name": "#%%\n"
    }
   },
   "outputs": [
    {
     "data": {
      "text/plain": "    age  hypertension  heart_disease  avg_glucose_level   bmi  stroke\n0  67.0             0              1             228.69  36.6       1\n1  61.0             0              0             202.21   NaN       1\n2  80.0             0              1             105.92  32.5       1\n3  49.0             0              0             171.23  34.4       1\n4  79.0             1              0             174.12  24.0       1",
      "text/html": "<div>\n<style scoped>\n    .dataframe tbody tr th:only-of-type {\n        vertical-align: middle;\n    }\n\n    .dataframe tbody tr th {\n        vertical-align: top;\n    }\n\n    .dataframe thead th {\n        text-align: right;\n    }\n</style>\n<table border=\"1\" class=\"dataframe\">\n  <thead>\n    <tr style=\"text-align: right;\">\n      <th></th>\n      <th>age</th>\n      <th>hypertension</th>\n      <th>heart_disease</th>\n      <th>avg_glucose_level</th>\n      <th>bmi</th>\n      <th>stroke</th>\n    </tr>\n  </thead>\n  <tbody>\n    <tr>\n      <th>0</th>\n      <td>67.0</td>\n      <td>0</td>\n      <td>1</td>\n      <td>228.69</td>\n      <td>36.6</td>\n      <td>1</td>\n    </tr>\n    <tr>\n      <th>1</th>\n      <td>61.0</td>\n      <td>0</td>\n      <td>0</td>\n      <td>202.21</td>\n      <td>NaN</td>\n      <td>1</td>\n    </tr>\n    <tr>\n      <th>2</th>\n      <td>80.0</td>\n      <td>0</td>\n      <td>1</td>\n      <td>105.92</td>\n      <td>32.5</td>\n      <td>1</td>\n    </tr>\n    <tr>\n      <th>3</th>\n      <td>49.0</td>\n      <td>0</td>\n      <td>0</td>\n      <td>171.23</td>\n      <td>34.4</td>\n      <td>1</td>\n    </tr>\n    <tr>\n      <th>4</th>\n      <td>79.0</td>\n      <td>1</td>\n      <td>0</td>\n      <td>174.12</td>\n      <td>24.0</td>\n      <td>1</td>\n    </tr>\n  </tbody>\n</table>\n</div>"
     },
     "execution_count": 533,
     "metadata": {},
     "output_type": "execute_result"
    }
   ],
   "source": [
    "#View the numerical variables\n",
    "df[numerical].head()"
   ]
  },
  {
   "cell_type": "code",
   "execution_count": 534,
   "metadata": {
    "pycharm": {
     "name": "#%%\n"
    }
   },
   "outputs": [
    {
     "data": {
      "text/plain": "age                    0\nhypertension           0\nheart_disease          0\navg_glucose_level      0\nbmi                  201\nstroke                 0\ndtype: int64"
     },
     "execution_count": 534,
     "metadata": {},
     "output_type": "execute_result"
    }
   ],
   "source": [
    "#Check Missing values\n",
    "df[numerical].isnull().sum()"
   ]
  },
  {
   "cell_type": "markdown",
   "metadata": {
    "pycharm": {
     "name": "#%% md\n"
    }
   },
   "source": [
    "### Feature Engineering"
   ]
  },
  {
   "cell_type": "code",
   "execution_count": 535,
   "metadata": {
    "pycharm": {
     "name": "#%%\n"
    }
   },
   "outputs": [
    {
     "data": {
      "text/plain": "gender                object\nage                  float64\nhypertension           int64\nheart_disease          int64\never_married          object\nwork_type             object\nResidence_type        object\navg_glucose_level    float64\nbmi                  float64\nsmoking_status        object\nstroke                 int64\ndtype: object"
     },
     "execution_count": 535,
     "metadata": {},
     "output_type": "execute_result"
    }
   ],
   "source": [
    "# Check data types\n",
    "df.dtypes"
   ]
  },
  {
   "cell_type": "code",
   "execution_count": 536,
   "metadata": {
    "pycharm": {
     "name": "#%%\n"
    }
   },
   "outputs": [
    {
     "data": {
      "text/plain": "['gender', 'ever_married', 'work_type', 'Residence_type', 'smoking_status']"
     },
     "execution_count": 536,
     "metadata": {},
     "output_type": "execute_result"
    }
   ],
   "source": [
    "# Display categorical Variables\n",
    "categorical = [col for col in df.columns if df[col].dtypes == 'object']\n",
    "categorical"
   ]
  },
  {
   "cell_type": "code",
   "execution_count": 537,
   "metadata": {
    "pycharm": {
     "name": "#%%\n"
    }
   },
   "outputs": [
    {
     "data": {
      "text/plain": "['age', 'hypertension', 'heart_disease', 'avg_glucose_level', 'bmi', 'stroke']"
     },
     "execution_count": 537,
     "metadata": {},
     "output_type": "execute_result"
    }
   ],
   "source": [
    "# Display numerical Variables\n",
    "numerical = [col for col in df.columns if df[col].dtypes != 'object']\n",
    "numerical"
   ]
  },
  {
   "cell_type": "code",
   "execution_count": 538,
   "metadata": {
    "pycharm": {
     "name": "#%%\n"
    }
   },
   "outputs": [
    {
     "data": {
      "text/plain": "gender            0.000000\never_married      0.000000\nwork_type         0.000000\nResidence_type    0.000000\nsmoking_status    0.302153\ndtype: float64"
     },
     "execution_count": 538,
     "metadata": {},
     "output_type": "execute_result"
    }
   ],
   "source": [
    "# Print percentage of missing value in the categorical variable\n",
    "df[categorical].isnull().mean()"
   ]
  },
  {
   "cell_type": "code",
   "execution_count": 539,
   "metadata": {
    "pycharm": {
     "name": "#%%\n"
    }
   },
   "outputs": [
    {
     "data": {
      "text/plain": "age                  0.000000\nhypertension         0.000000\nheart_disease        0.000000\navg_glucose_level    0.000000\nbmi                  0.039335\nstroke               0.000000\ndtype: float64"
     },
     "execution_count": 539,
     "metadata": {},
     "output_type": "execute_result"
    }
   ],
   "source": [
    "# Print percentage of missing value in the numerical variable\n",
    "df[numerical].isnull().mean()"
   ]
  },
  {
   "cell_type": "code",
   "execution_count": 540,
   "metadata": {
    "pycharm": {
     "name": "#%%\n"
    }
   },
   "outputs": [
    {
     "name": "stdout",
     "output_type": "stream",
     "text": [
      "smoking_status 0.3021526418786693\n"
     ]
    }
   ],
   "source": [
    "# Print categorical variables with missing data\n",
    "for col in categorical:\n",
    "    if df[col].isnull().mean() > 0:\n",
    "        print(col, (df[col].isnull().mean()))"
   ]
  },
  {
   "cell_type": "code",
   "execution_count": 541,
   "metadata": {
    "pycharm": {
     "name": "#%%\n"
    }
   },
   "outputs": [
    {
     "name": "stdout",
     "output_type": "stream",
     "text": [
      "bmi 0.03933463796477495\n"
     ]
    }
   ],
   "source": [
    "# Print numerical variables with missing data\n",
    "for col in numerical:\n",
    "    if df[col].isnull().mean() > 0:\n",
    "        print(col, (df[col].isnull().mean()))"
   ]
  },
  {
   "cell_type": "code",
   "execution_count": 542,
   "metadata": {
    "pycharm": {
     "name": "#%%\n"
    }
   },
   "outputs": [],
   "source": [
    "# Input missing variables with most frequent value\n",
    "for df2 in [df]:\n",
    "    df2['smoking_status'].fillna(df['smoking_status'].mode()[0], inplace=True)\n",
    "    df2['bmi'].fillna(df['bmi'].mode()[0], inplace=True)"
   ]
  },
  {
   "cell_type": "code",
   "execution_count": 543,
   "metadata": {
    "pycharm": {
     "name": "#%%\n"
    }
   },
   "outputs": [
    {
     "data": {
      "text/plain": "gender            0\never_married      0\nwork_type         0\nResidence_type    0\nsmoking_status    0\ndtype: int64"
     },
     "execution_count": 543,
     "metadata": {},
     "output_type": "execute_result"
    }
   ],
   "source": [
    "#Check missing values in categorical variables\n",
    "df[categorical].isnull().sum()"
   ]
  },
  {
   "cell_type": "code",
   "execution_count": 544,
   "metadata": {
    "pycharm": {
     "name": "#%%\n"
    }
   },
   "outputs": [
    {
     "data": {
      "text/plain": "age                  0\nhypertension         0\nheart_disease        0\navg_glucose_level    0\nbmi                  0\nstroke               0\ndtype: int64"
     },
     "execution_count": 544,
     "metadata": {},
     "output_type": "execute_result"
    }
   ],
   "source": [
    "#Check missing values in numerical variables in X train\n",
    "df[numerical].isnull().sum()"
   ]
  },
  {
   "cell_type": "code",
   "execution_count": 545,
   "metadata": {
    "pycharm": {
     "name": "#%%\n"
    }
   },
   "outputs": [
    {
     "data": {
      "text/plain": "gender               0\nage                  0\nhypertension         0\nheart_disease        0\never_married         0\nwork_type            0\nResidence_type       0\navg_glucose_level    0\nbmi                  0\nsmoking_status       0\nstroke               0\ndtype: int64"
     },
     "execution_count": 545,
     "metadata": {},
     "output_type": "execute_result"
    }
   ],
   "source": [
    "# Check missing values in X_train\n",
    "df.isnull().sum()"
   ]
  },
  {
   "cell_type": "markdown",
   "metadata": {
    "pycharm": {
     "name": "#%% md\n"
    }
   },
   "source": [
    "### Turn categorical to numerical"
   ]
  },
  {
   "cell_type": "code",
   "execution_count": 546,
   "metadata": {
    "pycharm": {
     "name": "#%%\n"
    }
   },
   "outputs": [
    {
     "data": {
      "text/plain": "   gender   age  hypertension  heart_disease ever_married      work_type  \\\n0    Male  67.0             0              1          Yes        Private   \n1  Female  61.0             0              0          Yes  Self-employed   \n2    Male  80.0             0              1          Yes        Private   \n3  Female  49.0             0              0          Yes        Private   \n4  Female  79.0             1              0          Yes  Self-employed   \n\n  Residence_type  avg_glucose_level   bmi   smoking_status  stroke  gender_n  \\\n0          Urban             228.69  36.6  formerly smoked       1         1   \n1          Rural             202.21  28.7     never smoked       1         0   \n2          Rural             105.92  32.5     never smoked       1         1   \n3          Urban             171.23  34.4           smokes       1         0   \n4          Rural             174.12  24.0     never smoked       1         0   \n\n   ever_married_n  work_type_n  Residence_type_n  smoking_status_n  \n0               1            2                 1                 0  \n1               1            3                 0                 1  \n2               1            2                 0                 1  \n3               1            2                 1                 2  \n4               1            3                 0                 1  ",
      "text/html": "<div>\n<style scoped>\n    .dataframe tbody tr th:only-of-type {\n        vertical-align: middle;\n    }\n\n    .dataframe tbody tr th {\n        vertical-align: top;\n    }\n\n    .dataframe thead th {\n        text-align: right;\n    }\n</style>\n<table border=\"1\" class=\"dataframe\">\n  <thead>\n    <tr style=\"text-align: right;\">\n      <th></th>\n      <th>gender</th>\n      <th>age</th>\n      <th>hypertension</th>\n      <th>heart_disease</th>\n      <th>ever_married</th>\n      <th>work_type</th>\n      <th>Residence_type</th>\n      <th>avg_glucose_level</th>\n      <th>bmi</th>\n      <th>smoking_status</th>\n      <th>stroke</th>\n      <th>gender_n</th>\n      <th>ever_married_n</th>\n      <th>work_type_n</th>\n      <th>Residence_type_n</th>\n      <th>smoking_status_n</th>\n    </tr>\n  </thead>\n  <tbody>\n    <tr>\n      <th>0</th>\n      <td>Male</td>\n      <td>67.0</td>\n      <td>0</td>\n      <td>1</td>\n      <td>Yes</td>\n      <td>Private</td>\n      <td>Urban</td>\n      <td>228.69</td>\n      <td>36.6</td>\n      <td>formerly smoked</td>\n      <td>1</td>\n      <td>1</td>\n      <td>1</td>\n      <td>2</td>\n      <td>1</td>\n      <td>0</td>\n    </tr>\n    <tr>\n      <th>1</th>\n      <td>Female</td>\n      <td>61.0</td>\n      <td>0</td>\n      <td>0</td>\n      <td>Yes</td>\n      <td>Self-employed</td>\n      <td>Rural</td>\n      <td>202.21</td>\n      <td>28.7</td>\n      <td>never smoked</td>\n      <td>1</td>\n      <td>0</td>\n      <td>1</td>\n      <td>3</td>\n      <td>0</td>\n      <td>1</td>\n    </tr>\n    <tr>\n      <th>2</th>\n      <td>Male</td>\n      <td>80.0</td>\n      <td>0</td>\n      <td>1</td>\n      <td>Yes</td>\n      <td>Private</td>\n      <td>Rural</td>\n      <td>105.92</td>\n      <td>32.5</td>\n      <td>never smoked</td>\n      <td>1</td>\n      <td>1</td>\n      <td>1</td>\n      <td>2</td>\n      <td>0</td>\n      <td>1</td>\n    </tr>\n    <tr>\n      <th>3</th>\n      <td>Female</td>\n      <td>49.0</td>\n      <td>0</td>\n      <td>0</td>\n      <td>Yes</td>\n      <td>Private</td>\n      <td>Urban</td>\n      <td>171.23</td>\n      <td>34.4</td>\n      <td>smokes</td>\n      <td>1</td>\n      <td>0</td>\n      <td>1</td>\n      <td>2</td>\n      <td>1</td>\n      <td>2</td>\n    </tr>\n    <tr>\n      <th>4</th>\n      <td>Female</td>\n      <td>79.0</td>\n      <td>1</td>\n      <td>0</td>\n      <td>Yes</td>\n      <td>Self-employed</td>\n      <td>Rural</td>\n      <td>174.12</td>\n      <td>24.0</td>\n      <td>never smoked</td>\n      <td>1</td>\n      <td>0</td>\n      <td>1</td>\n      <td>3</td>\n      <td>0</td>\n      <td>1</td>\n    </tr>\n  </tbody>\n</table>\n</div>"
     },
     "execution_count": 546,
     "metadata": {},
     "output_type": "execute_result"
    }
   ],
   "source": [
    "# Doing labelencoder\n",
    "le_gender=LabelEncoder()\n",
    "le_ever_married=LabelEncoder()\n",
    "le_work_type=LabelEncoder()\n",
    "le_Residence_type=LabelEncoder()\n",
    "le_smoking_status=LabelEncoder()\n",
    "\n",
    "#Change to data\n",
    "df['gender_n']=le_gender.fit_transform(df['gender'])\n",
    "df['ever_married_n']=le_ever_married.fit_transform(df['ever_married'])\n",
    "df['work_type_n']=le_work_type.fit_transform(df['work_type'])\n",
    "df['Residence_type_n']=le_Residence_type.fit_transform(df['Residence_type'])\n",
    "df['smoking_status_n']=le_smoking_status.fit_transform(df['smoking_status'])\n",
    "df.head()"
   ]
  },
  {
   "cell_type": "code",
   "execution_count": 547,
   "metadata": {
    "pycharm": {
     "name": "#%%\n"
    }
   },
   "outputs": [
    {
     "data": {
      "text/plain": "    age  hypertension  heart_disease  avg_glucose_level   bmi  stroke  \\\n0  67.0             0              1             228.69  36.6       1   \n1  61.0             0              0             202.21  28.7       1   \n2  80.0             0              1             105.92  32.5       1   \n3  49.0             0              0             171.23  34.4       1   \n4  79.0             1              0             174.12  24.0       1   \n\n   gender_n  ever_married_n  work_type_n  Residence_type_n  smoking_status_n  \n0         1               1            2                 1                 0  \n1         0               1            3                 0                 1  \n2         1               1            2                 0                 1  \n3         0               1            2                 1                 2  \n4         0               1            3                 0                 1  ",
      "text/html": "<div>\n<style scoped>\n    .dataframe tbody tr th:only-of-type {\n        vertical-align: middle;\n    }\n\n    .dataframe tbody tr th {\n        vertical-align: top;\n    }\n\n    .dataframe thead th {\n        text-align: right;\n    }\n</style>\n<table border=\"1\" class=\"dataframe\">\n  <thead>\n    <tr style=\"text-align: right;\">\n      <th></th>\n      <th>age</th>\n      <th>hypertension</th>\n      <th>heart_disease</th>\n      <th>avg_glucose_level</th>\n      <th>bmi</th>\n      <th>stroke</th>\n      <th>gender_n</th>\n      <th>ever_married_n</th>\n      <th>work_type_n</th>\n      <th>Residence_type_n</th>\n      <th>smoking_status_n</th>\n    </tr>\n  </thead>\n  <tbody>\n    <tr>\n      <th>0</th>\n      <td>67.0</td>\n      <td>0</td>\n      <td>1</td>\n      <td>228.69</td>\n      <td>36.6</td>\n      <td>1</td>\n      <td>1</td>\n      <td>1</td>\n      <td>2</td>\n      <td>1</td>\n      <td>0</td>\n    </tr>\n    <tr>\n      <th>1</th>\n      <td>61.0</td>\n      <td>0</td>\n      <td>0</td>\n      <td>202.21</td>\n      <td>28.7</td>\n      <td>1</td>\n      <td>0</td>\n      <td>1</td>\n      <td>3</td>\n      <td>0</td>\n      <td>1</td>\n    </tr>\n    <tr>\n      <th>2</th>\n      <td>80.0</td>\n      <td>0</td>\n      <td>1</td>\n      <td>105.92</td>\n      <td>32.5</td>\n      <td>1</td>\n      <td>1</td>\n      <td>1</td>\n      <td>2</td>\n      <td>0</td>\n      <td>1</td>\n    </tr>\n    <tr>\n      <th>3</th>\n      <td>49.0</td>\n      <td>0</td>\n      <td>0</td>\n      <td>171.23</td>\n      <td>34.4</td>\n      <td>1</td>\n      <td>0</td>\n      <td>1</td>\n      <td>2</td>\n      <td>1</td>\n      <td>2</td>\n    </tr>\n    <tr>\n      <th>4</th>\n      <td>79.0</td>\n      <td>1</td>\n      <td>0</td>\n      <td>174.12</td>\n      <td>24.0</td>\n      <td>1</td>\n      <td>0</td>\n      <td>1</td>\n      <td>3</td>\n      <td>0</td>\n      <td>1</td>\n    </tr>\n  </tbody>\n</table>\n</div>"
     },
     "execution_count": 547,
     "metadata": {},
     "output_type": "execute_result"
    }
   ],
   "source": [
    "df_n=df.drop(['gender','ever_married','work_type','Residence_type','smoking_status'],axis='columns')\n",
    "df_n.head()"
   ]
  },
  {
   "cell_type": "markdown",
   "metadata": {
    "pycharm": {
     "name": "#%% md\n"
    }
   },
   "source": [
    "### Split Data"
   ]
  },
  {
   "cell_type": "code",
   "execution_count": 548,
   "metadata": {
    "pycharm": {
     "name": "#%%\n"
    }
   },
   "outputs": [],
   "source": [
    "X = df_n.drop('stroke', axis='columns')\n",
    "Y = df_n['stroke']"
   ]
  },
  {
   "cell_type": "code",
   "execution_count": 549,
   "metadata": {
    "pycharm": {
     "name": "#%%\n"
    }
   },
   "outputs": [],
   "source": [
    "#Split data into separate training and test and test set\n",
    "X_train, X_test, Y_train, Y_test=train_test_split(X,Y, test_size=0.3, random_state=0)"
   ]
  },
  {
   "cell_type": "markdown",
   "metadata": {
    "pycharm": {
     "name": "#%% md\n"
    }
   },
   "source": [
    "### Training Classifier"
   ]
  },
  {
   "cell_type": "code",
   "execution_count": 550,
   "metadata": {
    "pycharm": {
     "name": "#%%\n"
    }
   },
   "outputs": [
    {
     "data": {
      "text/plain": "DecisionTreeClassifier()",
      "text/html": "<style>#sk-container-id-12 {color: black;}#sk-container-id-12 pre{padding: 0;}#sk-container-id-12 div.sk-toggleable {background-color: white;}#sk-container-id-12 label.sk-toggleable__label {cursor: pointer;display: block;width: 100%;margin-bottom: 0;padding: 0.3em;box-sizing: border-box;text-align: center;}#sk-container-id-12 label.sk-toggleable__label-arrow:before {content: \"▸\";float: left;margin-right: 0.25em;color: #696969;}#sk-container-id-12 label.sk-toggleable__label-arrow:hover:before {color: black;}#sk-container-id-12 div.sk-estimator:hover label.sk-toggleable__label-arrow:before {color: black;}#sk-container-id-12 div.sk-toggleable__content {max-height: 0;max-width: 0;overflow: hidden;text-align: left;background-color: #f0f8ff;}#sk-container-id-12 div.sk-toggleable__content pre {margin: 0.2em;color: black;border-radius: 0.25em;background-color: #f0f8ff;}#sk-container-id-12 input.sk-toggleable__control:checked~div.sk-toggleable__content {max-height: 200px;max-width: 100%;overflow: auto;}#sk-container-id-12 input.sk-toggleable__control:checked~label.sk-toggleable__label-arrow:before {content: \"▾\";}#sk-container-id-12 div.sk-estimator input.sk-toggleable__control:checked~label.sk-toggleable__label {background-color: #d4ebff;}#sk-container-id-12 div.sk-label input.sk-toggleable__control:checked~label.sk-toggleable__label {background-color: #d4ebff;}#sk-container-id-12 input.sk-hidden--visually {border: 0;clip: rect(1px 1px 1px 1px);clip: rect(1px, 1px, 1px, 1px);height: 1px;margin: -1px;overflow: hidden;padding: 0;position: absolute;width: 1px;}#sk-container-id-12 div.sk-estimator {font-family: monospace;background-color: #f0f8ff;border: 1px dotted black;border-radius: 0.25em;box-sizing: border-box;margin-bottom: 0.5em;}#sk-container-id-12 div.sk-estimator:hover {background-color: #d4ebff;}#sk-container-id-12 div.sk-parallel-item::after {content: \"\";width: 100%;border-bottom: 1px solid gray;flex-grow: 1;}#sk-container-id-12 div.sk-label:hover label.sk-toggleable__label {background-color: #d4ebff;}#sk-container-id-12 div.sk-serial::before {content: \"\";position: absolute;border-left: 1px solid gray;box-sizing: border-box;top: 0;bottom: 0;left: 50%;z-index: 0;}#sk-container-id-12 div.sk-serial {display: flex;flex-direction: column;align-items: center;background-color: white;padding-right: 0.2em;padding-left: 0.2em;position: relative;}#sk-container-id-12 div.sk-item {position: relative;z-index: 1;}#sk-container-id-12 div.sk-parallel {display: flex;align-items: stretch;justify-content: center;background-color: white;position: relative;}#sk-container-id-12 div.sk-item::before, #sk-container-id-12 div.sk-parallel-item::before {content: \"\";position: absolute;border-left: 1px solid gray;box-sizing: border-box;top: 0;bottom: 0;left: 50%;z-index: -1;}#sk-container-id-12 div.sk-parallel-item {display: flex;flex-direction: column;z-index: 1;position: relative;background-color: white;}#sk-container-id-12 div.sk-parallel-item:first-child::after {align-self: flex-end;width: 50%;}#sk-container-id-12 div.sk-parallel-item:last-child::after {align-self: flex-start;width: 50%;}#sk-container-id-12 div.sk-parallel-item:only-child::after {width: 0;}#sk-container-id-12 div.sk-dashed-wrapped {border: 1px dashed gray;margin: 0 0.4em 0.5em 0.4em;box-sizing: border-box;padding-bottom: 0.4em;background-color: white;}#sk-container-id-12 div.sk-label label {font-family: monospace;font-weight: bold;display: inline-block;line-height: 1.2em;}#sk-container-id-12 div.sk-label-container {text-align: center;}#sk-container-id-12 div.sk-container {/* jupyter's `normalize.less` sets `[hidden] { display: none; }` but bootstrap.min.css set `[hidden] { display: none !important; }` so we also need the `!important` here to be able to override the default hidden behavior on the sphinx rendered scikit-learn.org. See: https://github.com/scikit-learn/scikit-learn/issues/21755 */display: inline-block !important;position: relative;}#sk-container-id-12 div.sk-text-repr-fallback {display: none;}</style><div id=\"sk-container-id-12\" class=\"sk-top-container\"><div class=\"sk-text-repr-fallback\"><pre>DecisionTreeClassifier()</pre><b>In a Jupyter environment, please rerun this cell to show the HTML representation or trust the notebook. <br />On GitHub, the HTML representation is unable to render, please try loading this page with nbviewer.org.</b></div><div class=\"sk-container\" hidden><div class=\"sk-item\"><div class=\"sk-estimator sk-toggleable\"><input class=\"sk-toggleable__control sk-hidden--visually\" id=\"sk-estimator-id-12\" type=\"checkbox\" checked><label for=\"sk-estimator-id-12\" class=\"sk-toggleable__label sk-toggleable__label-arrow\">DecisionTreeClassifier</label><div class=\"sk-toggleable__content\"><pre>DecisionTreeClassifier()</pre></div></div></div></div></div>"
     },
     "execution_count": 550,
     "metadata": {},
     "output_type": "execute_result"
    }
   ],
   "source": [
    "model=tree.DecisionTreeClassifier()\n",
    "\n",
    "# Fit the model\n",
    "model.fit(X_train, Y_train)"
   ]
  },
  {
   "cell_type": "markdown",
   "metadata": {
    "pycharm": {
     "name": "#%% md\n"
    }
   },
   "source": [
    "### Predict the Results"
   ]
  },
  {
   "cell_type": "code",
   "execution_count": 551,
   "metadata": {
    "pycharm": {
     "name": "#%%\n"
    }
   },
   "outputs": [
    {
     "data": {
      "text/plain": "array([0, 0, 0, ..., 0, 1, 0], dtype=int64)"
     },
     "execution_count": 551,
     "metadata": {},
     "output_type": "execute_result"
    }
   ],
   "source": [
    "Y_pred = model.predict(X_test)\n",
    "\n",
    "Y_pred"
   ]
  },
  {
   "cell_type": "markdown",
   "metadata": {
    "pycharm": {
     "name": "#%% md\n"
    }
   },
   "source": [
    "### Check Accuracy Score"
   ]
  },
  {
   "cell_type": "code",
   "execution_count": 552,
   "metadata": {
    "pycharm": {
     "name": "#%%\n"
    }
   },
   "outputs": [
    {
     "name": "stdout",
     "output_type": "stream",
     "text": [
      "Model accuracy score: 0.9217\n"
     ]
    },
    {
     "data": {
      "text/plain": "array([0, 0, 0, ..., 0, 0, 0], dtype=int64)"
     },
     "execution_count": 552,
     "metadata": {},
     "output_type": "execute_result"
    }
   ],
   "source": [
    "print('Model accuracy score: {0:0.4f}'.format(accuracy_score(Y_test, Y_pred)))\n",
    "\n",
    "Y_pred_train = model.predict(X_train)\n",
    "Y_pred_train"
   ]
  },
  {
   "cell_type": "code",
   "execution_count": 553,
   "metadata": {
    "pycharm": {
     "name": "#%%\n"
    }
   },
   "outputs": [
    {
     "name": "stdout",
     "output_type": "stream",
     "text": [
      "Training-set accuracy score: 1.0000\n",
      "Training set score: 1.0000\n",
      "Test set score: 0.9217\n"
     ]
    }
   ],
   "source": [
    "print('Training-set accuracy score: {0:0.4f}'.format(accuracy_score(Y_train, Y_pred_train)))\n",
    "\n",
    "# Print the scores on training and test set\n",
    "print('Training set score: {:.4f}'.format(model.score(X_train, Y_train)))\n",
    "print('Test set score: {:.4f}'.format(model.score(X_test, Y_test)))"
   ]
  },
  {
   "cell_type": "code",
   "execution_count": 554,
   "metadata": {
    "pycharm": {
     "name": "#%%\n"
    }
   },
   "outputs": [
    {
     "data": {
      "text/plain": "0    1457\n1      76\nName: stroke, dtype: int64"
     },
     "execution_count": 554,
     "metadata": {},
     "output_type": "execute_result"
    }
   ],
   "source": [
    "# Check class distribution in test set\n",
    "null_info = Y_test.value_counts()\n",
    "null_info"
   ]
  },
  {
   "cell_type": "code",
   "execution_count": 555,
   "metadata": {
    "pycharm": {
     "name": "#%%\n"
    }
   },
   "outputs": [
    {
     "name": "stdout",
     "output_type": "stream",
     "text": [
      "Null accuracy score: 0.9504\n"
     ]
    }
   ],
   "source": [
    "# Check Null Accuracy Score\n",
    "null_accuracy = null_info.iloc[0] / (null_info.iloc[0] + null_info.iloc[1])\n",
    "print('Null accuracy score: {0:0.4f}'.format(null_accuracy))"
   ]
  },
  {
   "cell_type": "code",
   "execution_count": 556,
   "metadata": {
    "pycharm": {
     "name": "#%%\n"
    }
   },
   "outputs": [
    {
     "name": "stdout",
     "output_type": "stream",
     "text": [
      "Confusion matrix\n",
      "\n",
      " [[1399   58]\n",
      " [  62   14]]\n",
      "\n",
      "True Positives(TP) =  1399\n",
      "\n",
      "True Negatives(TN) =  14\n",
      "\n",
      "False Positives(FP) =  58\n",
      "\n",
      "False Negatives(FN) =  62\n"
     ]
    }
   ],
   "source": [
    "# Print the Confusion Matrix and slice it into four pieces\n",
    "cm = confusion_matrix(Y_test, Y_pred)\n",
    "\n",
    "print('Confusion matrix\\n\\n', cm)\n",
    "\n",
    "print('\\nTrue Positives(TP) = ', cm[0, 0])\n",
    "\n",
    "print('\\nTrue Negatives(TN) = ', cm[1, 1])\n",
    "\n",
    "print('\\nFalse Positives(FP) = ', cm[0, 1])\n",
    "\n",
    "print('\\nFalse Negatives(FN) = ', cm[1, 0])"
   ]
  },
  {
   "cell_type": "code",
   "execution_count": 557,
   "metadata": {
    "pycharm": {
     "name": "#%%\n"
    }
   },
   "outputs": [
    {
     "data": {
      "text/plain": "<Axes: >"
     },
     "execution_count": 557,
     "metadata": {},
     "output_type": "execute_result"
    },
    {
     "data": {
      "text/plain": "<Figure size 432x288 with 2 Axes>",
      "image/png": "[encoded data removed]"
     },
     "metadata": {
      "needs_background": "light"
     },
     "output_type": "display_data"
    }
   ],
   "source": [
    "# Visualise confusion matrix with seaborn heatmap\n",
    "\n",
    "cm_matrix = pd.DataFrame(data=cm, columns=['Actual Positive:1', 'Actual Negative:0'],\n",
    "                         index=['Predict Positive:1', 'Predict Negative:0'])\n",
    "\n",
    "sns.heatmap(cm_matrix, annot=True, fmt='d', cmap='YlGnBu')"
   ]
  },
  {
   "cell_type": "code",
   "execution_count": 558,
   "metadata": {
    "pycharm": {
     "name": "#%%\n"
    }
   },
   "outputs": [
    {
     "name": "stdout",
     "output_type": "stream",
     "text": [
      "              precision    recall  f1-score   support\n",
      "\n",
      "           0       0.96      0.96      0.96      1457\n",
      "           1       0.19      0.18      0.19        76\n",
      "\n",
      "    accuracy                           0.92      1533\n",
      "   macro avg       0.58      0.57      0.57      1533\n",
      "weighted avg       0.92      0.92      0.92      1533\n",
      "\n"
     ]
    }
   ],
   "source": [
    "print(classification_report(Y_test, Y_pred))"
   ]
  },
  {
   "cell_type": "code",
   "execution_count": 559,
   "metadata": {
    "pycharm": {
     "name": "#%%\n"
    }
   },
   "outputs": [
    {
     "name": "stdout",
     "output_type": "stream",
     "text": [
      "Classification accuracy : 0.9217\n"
     ]
    }
   ],
   "source": [
    "# Print classification accuracy\n",
    "\n",
    "TP = cm[0, 0]\n",
    "TN = cm[1, 1]\n",
    "FP = cm[0, 1]\n",
    "FN = cm[1, 0]\n",
    "\n",
    "classification_accuracy = (TP + TN) / float(TP + TN + FP + FN)\n",
    "\n",
    "print('Classification accuracy : {0:0.4f}'.format(classification_accuracy))"
   ]
  },
  {
   "cell_type": "code",
   "execution_count": 560,
   "metadata": {
    "pycharm": {
     "name": "#%%\n"
    }
   },
   "outputs": [
    {
     "name": "stdout",
     "output_type": "stream",
     "text": [
      "Classification error : 0.0783\n"
     ]
    }
   ],
   "source": [
    "# Print Classification Error\n",
    "\n",
    "classification_error = (FP + FN) / float(TP + TN + FP + FN)\n",
    "\n",
    "print('Classification error : {0:0.4f}'.format(classification_error))"
   ]
  },
  {
   "cell_type": "code",
   "execution_count": 561,
   "metadata": {
    "pycharm": {
     "name": "#%%\n"
    }
   },
   "outputs": [
    {
     "name": "stdout",
     "output_type": "stream",
     "text": [
      "Precision : 0.9602\n"
     ]
    }
   ],
   "source": [
    "#Print Precision score\n",
    "precision = TP / float(TP + FP)\n",
    "print('Precision : {0:0.4f}'.format(precision))"
   ]
  },
  {
   "cell_type": "code",
   "execution_count": 562,
   "metadata": {
    "pycharm": {
     "name": "#%%\n"
    }
   },
   "outputs": [
    {
     "name": "stdout",
     "output_type": "stream",
     "text": [
      "Recall or Sensitivity : 0.9576\n"
     ]
    }
   ],
   "source": [
    "#Print Recall\n",
    "recall = TP / float(TP + FN)\n",
    "print('Recall or Sensitivity : {0:0.4f}'.format(recall))"
   ]
  },
  {
   "cell_type": "code",
   "execution_count": 563,
   "metadata": {
    "pycharm": {
     "name": "#%%\n"
    }
   },
   "outputs": [
    {
     "name": "stdout",
     "output_type": "stream",
     "text": [
      "True Positive Rate : 0.9576\n"
     ]
    }
   ],
   "source": [
    "#True positive Rate\n",
    "TPR = TP / float(TP + FN)\n",
    "print('True Positive Rate : {0:0.4f}'.format(TPR))"
   ]
  },
  {
   "cell_type": "code",
   "execution_count": 564,
   "metadata": {
    "pycharm": {
     "name": "#%%\n"
    }
   },
   "outputs": [
    {
     "name": "stdout",
     "output_type": "stream",
     "text": [
      "False Positive Rate : 0.8056\n"
     ]
    }
   ],
   "source": [
    "#False positive rate\n",
    "FPR = FP / float(FP + TN)\n",
    "print('False Positive Rate : {0:0.4f}'.format(FPR))"
   ]
  },
  {
   "cell_type": "code",
   "execution_count": 565,
   "metadata": {
    "pycharm": {
     "name": "#%%\n"
    }
   },
   "outputs": [
    {
     "name": "stdout",
     "output_type": "stream",
     "text": [
      "Specificity : 0.1944\n"
     ]
    }
   ],
   "source": [
    "#Specificity\n",
    "specificity = TN / (TN + FP)\n",
    "print('Specificity : {0:0.4f}'.format(specificity))"
   ]
  },
  {
   "cell_type": "markdown",
   "metadata": {
    "pycharm": {
     "name": "#%% md\n"
    }
   },
   "source": [
    "### Calculate Class Probabilities"
   ]
  },
  {
   "cell_type": "code",
   "execution_count": 566,
   "metadata": {
    "pycharm": {
     "name": "#%%\n"
    }
   },
   "outputs": [
    {
     "data": {
      "text/plain": "array([[1., 0.],\n       [1., 0.],\n       [1., 0.],\n       [1., 0.],\n       [1., 0.],\n       [1., 0.],\n       [1., 0.],\n       [1., 0.],\n       [1., 0.],\n       [1., 0.]])"
     },
     "execution_count": 566,
     "metadata": {},
     "output_type": "execute_result"
    }
   ],
   "source": [
    "# Print the first 10 predicted probabilities of two classes- 0 and 1\n",
    "\n",
    "Y_pred_prob = model.predict_proba(X_test)[0:10]\n",
    "Y_pred_prob"
   ]
  },
  {
   "cell_type": "code",
   "execution_count": 567,
   "metadata": {
    "pycharm": {
     "name": "#%%\n"
    }
   },
   "outputs": [
    {
     "data": {
      "text/plain": "   Stroke  No Stroke\n0     1.0        0.0\n1     1.0        0.0\n2     1.0        0.0\n3     1.0        0.0\n4     1.0        0.0\n5     1.0        0.0\n6     1.0        0.0\n7     1.0        0.0\n8     1.0        0.0\n9     1.0        0.0",
      "text/html": "<div>\n<style scoped>\n    .dataframe tbody tr th:only-of-type {\n        vertical-align: middle;\n    }\n\n    .dataframe tbody tr th {\n        vertical-align: top;\n    }\n\n    .dataframe thead th {\n        text-align: right;\n    }\n</style>\n<table border=\"1\" class=\"dataframe\">\n  <thead>\n    <tr style=\"text-align: right;\">\n      <th></th>\n      <th>Stroke</th>\n      <th>No Stroke</th>\n    </tr>\n  </thead>\n  <tbody>\n    <tr>\n      <th>0</th>\n      <td>1.0</td>\n      <td>0.0</td>\n    </tr>\n    <tr>\n      <th>1</th>\n      <td>1.0</td>\n      <td>0.0</td>\n    </tr>\n    <tr>\n      <th>2</th>\n      <td>1.0</td>\n      <td>0.0</td>\n    </tr>\n    <tr>\n      <th>3</th>\n      <td>1.0</td>\n      <td>0.0</td>\n    </tr>\n    <tr>\n      <th>4</th>\n      <td>1.0</td>\n      <td>0.0</td>\n    </tr>\n    <tr>\n      <th>5</th>\n      <td>1.0</td>\n      <td>0.0</td>\n    </tr>\n    <tr>\n      <th>6</th>\n      <td>1.0</td>\n      <td>0.0</td>\n    </tr>\n    <tr>\n      <th>7</th>\n      <td>1.0</td>\n      <td>0.0</td>\n    </tr>\n    <tr>\n      <th>8</th>\n      <td>1.0</td>\n      <td>0.0</td>\n    </tr>\n    <tr>\n      <th>9</th>\n      <td>1.0</td>\n      <td>0.0</td>\n    </tr>\n  </tbody>\n</table>\n</div>"
     },
     "execution_count": 567,
     "metadata": {},
     "output_type": "execute_result"
    }
   ],
   "source": [
    "# Store the probabilities in dataframe\n",
    "Y_pred_prob_df = pd.DataFrame(data=Y_pred_prob, columns=['Stroke', 'No Stroke'])\n",
    "Y_pred_prob_df"
   ]
  },
  {
   "cell_type": "code",
   "execution_count": 568,
   "metadata": {
    "pycharm": {
     "name": "#%%\n"
    }
   },
   "outputs": [
    {
     "data": {
      "text/plain": "array([0., 0., 0., 0., 0., 0., 0., 0., 0., 0.])"
     },
     "execution_count": 568,
     "metadata": {},
     "output_type": "execute_result"
    }
   ],
   "source": [
    "# Print the first 10 predicted probabilities for class 1 - Probability of stroke\n",
    "model.predict_proba(X_test)[0:10, 1]"
   ]
  },
  {
   "cell_type": "code",
   "execution_count": 569,
   "metadata": {
    "pycharm": {
     "name": "#%%\n"
    }
   },
   "outputs": [],
   "source": [
    "# Store the predicted probabilities for class 1 - Probability of stroke\n",
    "Y_pred1 = model.predict_proba(X_test)[:, 1]"
   ]
  },
  {
   "cell_type": "code",
   "execution_count": 570,
   "metadata": {
    "pycharm": {
     "name": "#%%\n"
    }
   },
   "outputs": [
    {
     "data": {
      "text/plain": "Text(0, 0.5, 'Frequency')"
     },
     "execution_count": 570,
     "metadata": {},
     "output_type": "execute_result"
    },
    {
     "data": {
      "text/plain": "<Figure size 432x288 with 1 Axes>",
      "image/png": "[encoded data removed]"
     },
     "metadata": {
      "needs_background": "light"
     },
     "output_type": "display_data"
    }
   ],
   "source": [
    "# Plot histogram of predicted probabilities\n",
    "\n",
    "# adjust the font size\n",
    "plt.rcParams['font.size'] = 12\n",
    "\n",
    "# plot histogram with 10 bins\n",
    "plt.hist(Y_pred1, bins=10)\n",
    "\n",
    "# set the title of predicted probabilities\n",
    "plt.title('Histogram of predicted probabilities of Stroke')\n",
    "\n",
    "# set the x-axis limit\n",
    "plt.xlim(0, 1)\n",
    "\n",
    "# set the title\n",
    "plt.xlabel('Predicted probabilities of Stroke')\n",
    "plt.ylabel('Frequency')"
   ]
  },
  {
   "cell_type": "code",
   "execution_count": 571,
   "metadata": {
    "pycharm": {
     "name": "#%%\n"
    }
   },
   "outputs": [
    {
     "data": {
      "text/plain": "<Figure size 432x288 with 1 Axes>",
      "image/png": "[encoded data removed]"
     },
     "metadata": {
      "needs_background": "light"
     },
     "output_type": "display_data"
    }
   ],
   "source": [
    "# Plot ROC Curve\n",
    "fpr, tpr, thresholds = roc_curve(Y_test, Y_pred1)\n",
    "\n",
    "plt.figure(figsize=(6, 4))\n",
    "\n",
    "plt.plot(fpr, tpr, linewidth=2)\n",
    "plt.plot([0, 1], [0, 1], 'k--')\n",
    "\n",
    "plt.rcParams['font.size'] = 12\n",
    "\n",
    "plt.title('ROC curve for Gaussian Naive Bayes Classifier for Predicting Stroke')\n",
    "plt.xlabel('False Positive Rate (1 - Specificity)')\n",
    "plt.ylabel('True Positive Rate (Sensitivity)')\n",
    "\n",
    "plt.show()"
   ]
  },
  {
   "cell_type": "code",
   "execution_count": 572,
   "metadata": {
    "pycharm": {
     "name": "#%%\n"
    }
   },
   "outputs": [
    {
     "name": "stdout",
     "output_type": "stream",
     "text": [
      "ROC AUC : 0.5722\n",
      "Cross validated ROC AUC : 0.5375\n"
     ]
    }
   ],
   "source": [
    "# Compute ROC AUC\n",
    "ROC_AUC = roc_auc_score(Y_test, Y_pred1)\n",
    "\n",
    "print('ROC AUC : {:.4f}'.format(ROC_AUC))\n",
    "# Calculate cross-validated ROC AUC\n",
    "Cross_validated_ROC_AUC = cross_val_score(model, X_train, Y_train, cv=5, scoring='roc_auc').mean()\n",
    "\n",
    "print('Cross validated ROC AUC : {:.4f}'.format(Cross_validated_ROC_AUC))"
   ]
  },
  {
   "cell_type": "code",
   "execution_count": 573,
   "metadata": {
    "pycharm": {
     "name": "#%%\n"
    }
   },
   "outputs": [
    {
     "name": "stdout",
     "output_type": "stream",
     "text": [
      "Cross-validation scores:[0.89664804 0.9301676  0.89106145 0.93296089 0.89664804 0.87988827\n",
      " 0.90782123 0.91036415 0.90756303 0.93277311]\n"
     ]
    }
   ],
   "source": [
    "# Applying 10-Fold Cross Validation\n",
    "scores = cross_val_score(model, X_train, Y_train, cv=10, scoring='accuracy')\n",
    "\n",
    "print('Cross-validation scores:{}'.format(scores))"
   ]
  },
  {
   "cell_type": "code",
   "execution_count": 574,
   "metadata": {
    "pycharm": {
     "name": "#%%\n"
    }
   },
   "outputs": [
    {
     "name": "stdout",
     "output_type": "stream",
     "text": [
      "Average cross-validation score: 0.9086\n"
     ]
    }
   ],
   "source": [
    "# Compute Average cross-validation score\n",
    "\n",
    "print('Average cross-validation score: {:.4f}'.format(scores.mean()))"
   ]
  },
  {
   "cell_type": "markdown",
   "metadata": {
    "pycharm": {
     "name": "#%% md\n"
    }
   },
   "source": [
    "### Plotting the Decision Tree"
   ]
  },
  {
   "cell_type": "code",
   "execution_count": 575,
   "metadata": {
    "pycharm": {
     "name": "#%%\n"
    }
   },
   "outputs": [
    {
     "name": "stdout",
     "output_type": "stream",
     "text": [
      "|--- age <= 67.50\n",
      "|   |--- age <= 50.50\n",
      "|   |   |--- age <= 37.50\n",
      "|   |   |   |--- class: 0\n",
      "|   |   |--- age >  37.50\n",
      "|   |   |   |--- age <= 39.50\n",
      "|   |   |   |   |--- work_type_n <= 2.50\n",
      "|   |   |   |   |   |--- bmi <= 28.85\n",
      "|   |   |   |   |   |   |--- bmi <= 28.65\n",
      "|   |   |   |   |   |   |   |--- avg_glucose_level <= 83.38\n",
      "|   |   |   |   |   |   |   |   |--- avg_glucose_level <= 81.53\n",
      "|   |   |   |   |   |   |   |   |   |--- class: 0\n",
      "|   |   |   |   |   |   |   |   |--- avg_glucose_level >  81.53\n",
      "|   |   |   |   |   |   |   |   |   |--- class: 1\n",
      "|   |   |   |   |   |   |   |--- avg_glucose_level >  83.38\n",
      "|   |   |   |   |   |   |   |   |--- class: 0\n",
      "|   |   |   |   |   |   |--- bmi >  28.65\n",
      "|   |   |   |   |   |   |   |--- smoking_status_n <= 0.50\n",
      "|   |   |   |   |   |   |   |   |--- class: 1\n",
      "|   |   |   |   |   |   |   |--- smoking_status_n >  0.50\n",
      "|   |   |   |   |   |   |   |   |--- class: 0\n",
      "|   |   |   |   |   |--- bmi >  28.85\n",
      "|   |   |   |   |   |   |--- class: 0\n",
      "|   |   |   |   |--- work_type_n >  2.50\n",
      "|   |   |   |   |   |--- bmi <= 31.45\n",
      "|   |   |   |   |   |   |--- smoking_status_n <= 0.50\n",
      "|   |   |   |   |   |   |   |--- class: 1\n",
      "|   |   |   |   |   |   |--- smoking_status_n >  0.50\n",
      "|   |   |   |   |   |   |   |--- bmi <= 29.45\n",
      "|   |   |   |   |   |   |   |   |--- class: 0\n",
      "|   |   |   |   |   |   |   |--- bmi >  29.45\n",
      "|   |   |   |   |   |   |   |   |--- class: 1\n",
      "|   |   |   |   |   |--- bmi >  31.45\n",
      "|   |   |   |   |   |   |--- class: 0\n",
      "|   |   |   |--- age >  39.50\n",
      "|   |   |   |   |--- bmi <= 20.55\n",
      "|   |   |   |   |   |--- bmi <= 20.45\n",
      "|   |   |   |   |   |   |--- class: 0\n",
      "|   |   |   |   |   |--- bmi >  20.45\n",
      "|   |   |   |   |   |   |--- age <= 45.00\n",
      "|   |   |   |   |   |   |   |--- class: 0\n",
      "|   |   |   |   |   |   |--- age >  45.00\n",
      "|   |   |   |   |   |   |   |--- class: 1\n",
      "|   |   |   |   |--- bmi >  20.55\n",
      "|   |   |   |   |   |--- bmi <= 29.35\n",
      "|   |   |   |   |   |   |--- class: 0\n",
      "|   |   |   |   |   |--- bmi >  29.35\n",
      "|   |   |   |   |   |   |--- bmi <= 29.45\n",
      "|   |   |   |   |   |   |   |--- gender_n <= 0.50\n",
      "|   |   |   |   |   |   |   |   |--- class: 0\n",
      "|   |   |   |   |   |   |   |--- gender_n >  0.50\n",
      "|   |   |   |   |   |   |   |   |--- class: 1\n",
      "|   |   |   |   |   |   |--- bmi >  29.45\n",
      "|   |   |   |   |   |   |   |--- bmi <= 30.85\n",
      "|   |   |   |   |   |   |   |   |--- bmi <= 30.75\n",
      "|   |   |   |   |   |   |   |   |   |--- smoking_status_n <= 0.50\n",
      "|   |   |   |   |   |   |   |   |   |   |--- age <= 49.50\n",
      "|   |   |   |   |   |   |   |   |   |   |   |--- truncated branch of depth 3\n",
      "|   |   |   |   |   |   |   |   |   |   |--- age >  49.50\n",
      "|   |   |   |   |   |   |   |   |   |   |   |--- class: 1\n",
      "|   |   |   |   |   |   |   |   |   |--- smoking_status_n >  0.50\n",
      "|   |   |   |   |   |   |   |   |   |   |--- class: 0\n",
      "|   |   |   |   |   |   |   |   |--- bmi >  30.75\n",
      "|   |   |   |   |   |   |   |   |   |--- gender_n <= 0.50\n",
      "|   |   |   |   |   |   |   |   |   |   |--- class: 1\n",
      "|   |   |   |   |   |   |   |   |   |--- gender_n >  0.50\n",
      "|   |   |   |   |   |   |   |   |   |   |--- class: 0\n",
      "|   |   |   |   |   |   |   |--- bmi >  30.85\n",
      "|   |   |   |   |   |   |   |   |--- avg_glucose_level <= 142.18\n",
      "|   |   |   |   |   |   |   |   |   |--- class: 0\n",
      "|   |   |   |   |   |   |   |   |--- avg_glucose_level >  142.18\n",
      "|   |   |   |   |   |   |   |   |   |--- avg_glucose_level <= 144.72\n",
      "|   |   |   |   |   |   |   |   |   |   |--- class: 1\n",
      "|   |   |   |   |   |   |   |   |   |--- avg_glucose_level >  144.72\n",
      "|   |   |   |   |   |   |   |   |   |   |--- bmi <= 34.80\n",
      "|   |   |   |   |   |   |   |   |   |   |   |--- truncated branch of depth 2\n",
      "|   |   |   |   |   |   |   |   |   |   |--- bmi >  34.80\n",
      "|   |   |   |   |   |   |   |   |   |   |   |--- class: 0\n",
      "|   |--- age >  50.50\n",
      "|   |   |--- heart_disease <= 0.50\n",
      "|   |   |   |--- bmi <= 28.75\n",
      "|   |   |   |   |--- bmi <= 27.25\n",
      "|   |   |   |   |   |--- age <= 65.50\n",
      "|   |   |   |   |   |   |--- avg_glucose_level <= 96.40\n",
      "|   |   |   |   |   |   |   |--- class: 0\n",
      "|   |   |   |   |   |   |--- avg_glucose_level >  96.40\n",
      "|   |   |   |   |   |   |   |--- avg_glucose_level <= 96.68\n",
      "|   |   |   |   |   |   |   |   |--- class: 1\n",
      "|   |   |   |   |   |   |   |--- avg_glucose_level >  96.68\n",
      "|   |   |   |   |   |   |   |   |--- age <= 58.50\n",
      "|   |   |   |   |   |   |   |   |   |--- class: 0\n",
      "|   |   |   |   |   |   |   |   |--- age >  58.50\n",
      "|   |   |   |   |   |   |   |   |   |--- age <= 60.50\n",
      "|   |   |   |   |   |   |   |   |   |   |--- smoking_status_n <= 1.50\n",
      "|   |   |   |   |   |   |   |   |   |   |   |--- class: 0\n",
      "|   |   |   |   |   |   |   |   |   |   |--- smoking_status_n >  1.50\n",
      "|   |   |   |   |   |   |   |   |   |   |   |--- class: 1\n",
      "|   |   |   |   |   |   |   |   |   |--- age >  60.50\n",
      "|   |   |   |   |   |   |   |   |   |   |--- work_type_n <= 1.00\n",
      "|   |   |   |   |   |   |   |   |   |   |   |--- truncated branch of depth 2\n",
      "|   |   |   |   |   |   |   |   |   |   |--- work_type_n >  1.00\n",
      "|   |   |   |   |   |   |   |   |   |   |   |--- class: 0\n",
      "|   |   |   |   |   |--- age >  65.50\n",
      "|   |   |   |   |   |   |--- avg_glucose_level <= 76.65\n",
      "|   |   |   |   |   |   |   |--- work_type_n <= 1.00\n",
      "|   |   |   |   |   |   |   |   |--- class: 0\n",
      "|   |   |   |   |   |   |   |--- work_type_n >  1.00\n",
      "|   |   |   |   |   |   |   |   |--- avg_glucose_level <= 60.44\n",
      "|   |   |   |   |   |   |   |   |   |--- class: 0\n",
      "|   |   |   |   |   |   |   |   |--- avg_glucose_level >  60.44\n",
      "|   |   |   |   |   |   |   |   |   |--- class: 1\n",
      "|   |   |   |   |   |   |--- avg_glucose_level >  76.65\n",
      "|   |   |   |   |   |   |   |--- class: 0\n",
      "|   |   |   |   |--- bmi >  27.25\n",
      "|   |   |   |   |   |--- bmi <= 27.45\n",
      "|   |   |   |   |   |   |--- Residence_type_n <= 0.50\n",
      "|   |   |   |   |   |   |   |--- age <= 55.50\n",
      "|   |   |   |   |   |   |   |   |--- age <= 52.50\n",
      "|   |   |   |   |   |   |   |   |   |--- class: 1\n",
      "|   |   |   |   |   |   |   |   |--- age >  52.50\n",
      "|   |   |   |   |   |   |   |   |   |--- class: 0\n",
      "|   |   |   |   |   |   |   |--- age >  55.50\n",
      "|   |   |   |   |   |   |   |   |--- avg_glucose_level <= 239.38\n",
      "|   |   |   |   |   |   |   |   |   |--- class: 1\n",
      "|   |   |   |   |   |   |   |   |--- avg_glucose_level >  239.38\n",
      "|   |   |   |   |   |   |   |   |   |--- class: 0\n",
      "|   |   |   |   |   |   |--- Residence_type_n >  0.50\n",
      "|   |   |   |   |   |   |   |--- class: 0\n",
      "|   |   |   |   |   |--- bmi >  27.45\n",
      "|   |   |   |   |   |   |--- bmi <= 28.65\n",
      "|   |   |   |   |   |   |   |--- smoking_status_n <= 0.50\n",
      "|   |   |   |   |   |   |   |   |--- age <= 65.50\n",
      "|   |   |   |   |   |   |   |   |   |--- avg_glucose_level <= 60.03\n",
      "|   |   |   |   |   |   |   |   |   |   |--- class: 1\n",
      "|   |   |   |   |   |   |   |   |   |--- avg_glucose_level >  60.03\n",
      "|   |   |   |   |   |   |   |   |   |   |--- age <= 64.00\n",
      "|   |   |   |   |   |   |   |   |   |   |   |--- class: 0\n",
      "|   |   |   |   |   |   |   |   |   |   |--- age >  64.00\n",
      "|   |   |   |   |   |   |   |   |   |   |   |--- truncated branch of depth 3\n",
      "|   |   |   |   |   |   |   |   |--- age >  65.50\n",
      "|   |   |   |   |   |   |   |   |   |--- avg_glucose_level <= 106.91\n",
      "|   |   |   |   |   |   |   |   |   |   |--- class: 0\n",
      "|   |   |   |   |   |   |   |   |   |--- avg_glucose_level >  106.91\n",
      "|   |   |   |   |   |   |   |   |   |   |--- class: 1\n",
      "|   |   |   |   |   |   |   |--- smoking_status_n >  0.50\n",
      "|   |   |   |   |   |   |   |   |--- age <= 54.50\n",
      "|   |   |   |   |   |   |   |   |   |--- age <= 53.50\n",
      "|   |   |   |   |   |   |   |   |   |   |--- hypertension <= 0.50\n",
      "|   |   |   |   |   |   |   |   |   |   |   |--- class: 0\n",
      "|   |   |   |   |   |   |   |   |   |   |--- hypertension >  0.50\n",
      "|   |   |   |   |   |   |   |   |   |   |   |--- truncated branch of depth 2\n",
      "|   |   |   |   |   |   |   |   |   |--- age >  53.50\n",
      "|   |   |   |   |   |   |   |   |   |   |--- avg_glucose_level <= 64.39\n",
      "|   |   |   |   |   |   |   |   |   |   |   |--- class: 0\n",
      "|   |   |   |   |   |   |   |   |   |   |--- avg_glucose_level >  64.39\n",
      "|   |   |   |   |   |   |   |   |   |   |   |--- class: 1\n",
      "|   |   |   |   |   |   |   |   |--- age >  54.50\n",
      "|   |   |   |   |   |   |   |   |   |--- class: 0\n",
      "|   |   |   |   |   |   |--- bmi >  28.65\n",
      "|   |   |   |   |   |   |   |--- avg_glucose_level <= 71.29\n",
      "|   |   |   |   |   |   |   |   |--- class: 1\n",
      "|   |   |   |   |   |   |   |--- avg_glucose_level >  71.29\n",
      "|   |   |   |   |   |   |   |   |--- avg_glucose_level <= 198.11\n",
      "|   |   |   |   |   |   |   |   |   |--- avg_glucose_level <= 164.43\n",
      "|   |   |   |   |   |   |   |   |   |   |--- age <= 57.00\n",
      "|   |   |   |   |   |   |   |   |   |   |   |--- class: 0\n",
      "|   |   |   |   |   |   |   |   |   |   |--- age >  57.00\n",
      "|   |   |   |   |   |   |   |   |   |   |   |--- truncated branch of depth 7\n",
      "|   |   |   |   |   |   |   |   |   |--- avg_glucose_level >  164.43\n",
      "|   |   |   |   |   |   |   |   |   |   |--- age <= 59.50\n",
      "|   |   |   |   |   |   |   |   |   |   |   |--- class: 1\n",
      "|   |   |   |   |   |   |   |   |   |   |--- age >  59.50\n",
      "|   |   |   |   |   |   |   |   |   |   |   |--- truncated branch of depth 2\n",
      "|   |   |   |   |   |   |   |   |--- avg_glucose_level >  198.11\n",
      "|   |   |   |   |   |   |   |   |   |--- class: 0\n",
      "|   |   |   |--- bmi >  28.75\n",
      "|   |   |   |   |--- bmi <= 37.20\n",
      "|   |   |   |   |   |--- avg_glucose_level <= 248.84\n",
      "|   |   |   |   |   |   |--- bmi <= 32.05\n",
      "|   |   |   |   |   |   |   |--- bmi <= 31.95\n",
      "|   |   |   |   |   |   |   |   |--- bmi <= 29.95\n",
      "|   |   |   |   |   |   |   |   |   |--- class: 0\n",
      "|   |   |   |   |   |   |   |   |--- bmi >  29.95\n",
      "|   |   |   |   |   |   |   |   |   |--- avg_glucose_level <= 62.57\n",
      "|   |   |   |   |   |   |   |   |   |   |--- avg_glucose_level <= 61.62\n",
      "|   |   |   |   |   |   |   |   |   |   |   |--- class: 0\n",
      "|   |   |   |   |   |   |   |   |   |   |--- avg_glucose_level >  61.62\n",
      "|   |   |   |   |   |   |   |   |   |   |   |--- class: 1\n",
      "|   |   |   |   |   |   |   |   |   |--- avg_glucose_level >  62.57\n",
      "|   |   |   |   |   |   |   |   |   |   |--- avg_glucose_level <= 86.03\n",
      "|   |   |   |   |   |   |   |   |   |   |   |--- class: 0\n",
      "|   |   |   |   |   |   |   |   |   |   |--- avg_glucose_level >  86.03\n",
      "|   |   |   |   |   |   |   |   |   |   |   |--- truncated branch of depth 4\n",
      "|   |   |   |   |   |   |   |--- bmi >  31.95\n",
      "|   |   |   |   |   |   |   |   |--- gender_n <= 0.50\n",
      "|   |   |   |   |   |   |   |   |   |--- class: 0\n",
      "|   |   |   |   |   |   |   |   |--- gender_n >  0.50\n",
      "|   |   |   |   |   |   |   |   |   |--- class: 1\n",
      "|   |   |   |   |   |   |--- bmi >  32.05\n",
      "|   |   |   |   |   |   |   |--- class: 0\n",
      "|   |   |   |   |   |--- avg_glucose_level >  248.84\n",
      "|   |   |   |   |   |   |--- smoking_status_n <= 1.50\n",
      "|   |   |   |   |   |   |   |--- class: 1\n",
      "|   |   |   |   |   |   |--- smoking_status_n >  1.50\n",
      "|   |   |   |   |   |   |   |--- class: 0\n",
      "|   |   |   |   |--- bmi >  37.20\n",
      "|   |   |   |   |   |--- bmi <= 37.55\n",
      "|   |   |   |   |   |   |--- gender_n <= 0.50\n",
      "|   |   |   |   |   |   |   |--- class: 1\n",
      "|   |   |   |   |   |   |--- gender_n >  0.50\n",
      "|   |   |   |   |   |   |   |--- class: 0\n",
      "|   |   |   |   |   |--- bmi >  37.55\n",
      "|   |   |   |   |   |   |--- avg_glucose_level <= 88.63\n",
      "|   |   |   |   |   |   |   |--- avg_glucose_level <= 65.15\n",
      "|   |   |   |   |   |   |   |   |--- avg_glucose_level <= 63.94\n",
      "|   |   |   |   |   |   |   |   |   |--- class: 0\n",
      "|   |   |   |   |   |   |   |   |--- avg_glucose_level >  63.94\n",
      "|   |   |   |   |   |   |   |   |   |--- class: 1\n",
      "|   |   |   |   |   |   |   |--- avg_glucose_level >  65.15\n",
      "|   |   |   |   |   |   |   |   |--- class: 0\n",
      "|   |   |   |   |   |   |--- avg_glucose_level >  88.63\n",
      "|   |   |   |   |   |   |   |--- avg_glucose_level <= 89.32\n",
      "|   |   |   |   |   |   |   |   |--- class: 1\n",
      "|   |   |   |   |   |   |   |--- avg_glucose_level >  89.32\n",
      "|   |   |   |   |   |   |   |   |--- smoking_status_n <= 0.50\n",
      "|   |   |   |   |   |   |   |   |   |--- bmi <= 42.75\n",
      "|   |   |   |   |   |   |   |   |   |   |--- bmi <= 42.15\n",
      "|   |   |   |   |   |   |   |   |   |   |   |--- truncated branch of depth 5\n",
      "|   |   |   |   |   |   |   |   |   |   |--- bmi >  42.15\n",
      "|   |   |   |   |   |   |   |   |   |   |   |--- truncated branch of depth 2\n",
      "|   |   |   |   |   |   |   |   |   |--- bmi >  42.75\n",
      "|   |   |   |   |   |   |   |   |   |   |--- class: 0\n",
      "|   |   |   |   |   |   |   |   |--- smoking_status_n >  0.50\n",
      "|   |   |   |   |   |   |   |   |   |--- work_type_n <= 2.50\n",
      "|   |   |   |   |   |   |   |   |   |   |--- avg_glucose_level <= 96.78\n",
      "|   |   |   |   |   |   |   |   |   |   |   |--- truncated branch of depth 2\n",
      "|   |   |   |   |   |   |   |   |   |   |--- avg_glucose_level >  96.78\n",
      "|   |   |   |   |   |   |   |   |   |   |   |--- class: 0\n",
      "|   |   |   |   |   |   |   |   |   |--- work_type_n >  2.50\n",
      "|   |   |   |   |   |   |   |   |   |   |--- avg_glucose_level <= 230.74\n",
      "|   |   |   |   |   |   |   |   |   |   |   |--- truncated branch of depth 3\n",
      "|   |   |   |   |   |   |   |   |   |   |--- avg_glucose_level >  230.74\n",
      "|   |   |   |   |   |   |   |   |   |   |   |--- truncated branch of depth 2\n",
      "|   |   |--- heart_disease >  0.50\n",
      "|   |   |   |--- age <= 56.50\n",
      "|   |   |   |   |--- class: 0\n",
      "|   |   |   |--- age >  56.50\n",
      "|   |   |   |   |--- smoking_status_n <= 1.50\n",
      "|   |   |   |   |   |--- avg_glucose_level <= 196.65\n",
      "|   |   |   |   |   |   |--- Residence_type_n <= 0.50\n",
      "|   |   |   |   |   |   |   |--- class: 0\n",
      "|   |   |   |   |   |   |--- Residence_type_n >  0.50\n",
      "|   |   |   |   |   |   |   |--- bmi <= 28.75\n",
      "|   |   |   |   |   |   |   |   |--- class: 0\n",
      "|   |   |   |   |   |   |   |--- bmi >  28.75\n",
      "|   |   |   |   |   |   |   |   |--- work_type_n <= 2.50\n",
      "|   |   |   |   |   |   |   |   |   |--- bmi <= 29.00\n",
      "|   |   |   |   |   |   |   |   |   |   |--- class: 1\n",
      "|   |   |   |   |   |   |   |   |   |--- bmi >  29.00\n",
      "|   |   |   |   |   |   |   |   |   |   |--- class: 0\n",
      "|   |   |   |   |   |   |   |   |--- work_type_n >  2.50\n",
      "|   |   |   |   |   |   |   |   |   |--- class: 1\n",
      "|   |   |   |   |   |--- avg_glucose_level >  196.65\n",
      "|   |   |   |   |   |   |--- avg_glucose_level <= 230.21\n",
      "|   |   |   |   |   |   |   |--- bmi <= 36.70\n",
      "|   |   |   |   |   |   |   |   |--- age <= 63.50\n",
      "|   |   |   |   |   |   |   |   |   |--- class: 1\n",
      "|   |   |   |   |   |   |   |   |--- age >  63.50\n",
      "|   |   |   |   |   |   |   |   |   |--- age <= 65.50\n",
      "|   |   |   |   |   |   |   |   |   |   |--- class: 0\n",
      "|   |   |   |   |   |   |   |   |   |--- age >  65.50\n",
      "|   |   |   |   |   |   |   |   |   |   |--- class: 1\n",
      "|   |   |   |   |   |   |   |--- bmi >  36.70\n",
      "|   |   |   |   |   |   |   |   |--- class: 0\n",
      "|   |   |   |   |   |   |--- avg_glucose_level >  230.21\n",
      "|   |   |   |   |   |   |   |--- class: 0\n",
      "|   |   |   |   |--- smoking_status_n >  1.50\n",
      "|   |   |   |   |   |--- bmi <= 35.60\n",
      "|   |   |   |   |   |   |--- avg_glucose_level <= 240.27\n",
      "|   |   |   |   |   |   |   |--- age <= 61.50\n",
      "|   |   |   |   |   |   |   |   |--- age <= 60.50\n",
      "|   |   |   |   |   |   |   |   |   |--- class: 0\n",
      "|   |   |   |   |   |   |   |   |--- age >  60.50\n",
      "|   |   |   |   |   |   |   |   |   |--- class: 1\n",
      "|   |   |   |   |   |   |   |--- age >  61.50\n",
      "|   |   |   |   |   |   |   |   |--- class: 0\n",
      "|   |   |   |   |   |   |--- avg_glucose_level >  240.27\n",
      "|   |   |   |   |   |   |   |--- class: 1\n",
      "|   |   |   |   |   |--- bmi >  35.60\n",
      "|   |   |   |   |   |   |--- class: 1\n",
      "|--- age >  67.50\n",
      "|   |--- ever_married_n <= 0.50\n",
      "|   |   |--- hypertension <= 0.50\n",
      "|   |   |   |--- bmi <= 28.75\n",
      "|   |   |   |   |--- bmi <= 26.85\n",
      "|   |   |   |   |   |--- age <= 70.50\n",
      "|   |   |   |   |   |   |--- class: 1\n",
      "|   |   |   |   |   |--- age >  70.50\n",
      "|   |   |   |   |   |   |--- bmi <= 23.15\n",
      "|   |   |   |   |   |   |   |--- Residence_type_n <= 0.50\n",
      "|   |   |   |   |   |   |   |   |--- class: 1\n",
      "|   |   |   |   |   |   |   |--- Residence_type_n >  0.50\n",
      "|   |   |   |   |   |   |   |   |--- class: 0\n",
      "|   |   |   |   |   |   |--- bmi >  23.15\n",
      "|   |   |   |   |   |   |   |--- class: 0\n",
      "|   |   |   |   |--- bmi >  26.85\n",
      "|   |   |   |   |   |--- age <= 79.50\n",
      "|   |   |   |   |   |   |--- smoking_status_n <= 1.50\n",
      "|   |   |   |   |   |   |   |--- class: 1\n",
      "|   |   |   |   |   |   |--- smoking_status_n >  1.50\n",
      "|   |   |   |   |   |   |   |--- class: 0\n",
      "|   |   |   |   |   |--- age >  79.50\n",
      "|   |   |   |   |   |   |--- class: 0\n",
      "|   |   |   |--- bmi >  28.75\n",
      "|   |   |   |   |--- avg_glucose_level <= 203.54\n",
      "|   |   |   |   |   |--- class: 0\n",
      "|   |   |   |   |--- avg_glucose_level >  203.54\n",
      "|   |   |   |   |   |--- smoking_status_n <= 1.00\n",
      "|   |   |   |   |   |   |--- class: 0\n",
      "|   |   |   |   |   |--- smoking_status_n >  1.00\n",
      "|   |   |   |   |   |   |--- class: 1\n",
      "|   |   |--- hypertension >  0.50\n",
      "|   |   |   |--- avg_glucose_level <= 97.27\n",
      "|   |   |   |   |--- gender_n <= 0.50\n",
      "|   |   |   |   |   |--- bmi <= 24.70\n",
      "|   |   |   |   |   |   |--- class: 0\n",
      "|   |   |   |   |   |--- bmi >  24.70\n",
      "|   |   |   |   |   |   |--- class: 1\n",
      "|   |   |   |   |--- gender_n >  0.50\n",
      "|   |   |   |   |   |--- class: 0\n",
      "|   |   |   |--- avg_glucose_level >  97.27\n",
      "|   |   |   |   |--- work_type_n <= 2.50\n",
      "|   |   |   |   |   |--- class: 1\n",
      "|   |   |   |   |--- work_type_n >  2.50\n",
      "|   |   |   |   |   |--- class: 0\n",
      "|   |--- ever_married_n >  0.50\n",
      "|   |   |--- avg_glucose_level <= 102.76\n",
      "|   |   |   |--- avg_glucose_level <= 78.74\n",
      "|   |   |   |   |--- age <= 79.50\n",
      "|   |   |   |   |   |--- bmi <= 28.75\n",
      "|   |   |   |   |   |   |--- avg_glucose_level <= 74.42\n",
      "|   |   |   |   |   |   |   |--- bmi <= 28.55\n",
      "|   |   |   |   |   |   |   |   |--- avg_glucose_level <= 56.11\n",
      "|   |   |   |   |   |   |   |   |   |--- class: 1\n",
      "|   |   |   |   |   |   |   |   |--- avg_glucose_level >  56.11\n",
      "|   |   |   |   |   |   |   |   |   |--- hypertension <= 0.50\n",
      "|   |   |   |   |   |   |   |   |   |   |--- age <= 77.50\n",
      "|   |   |   |   |   |   |   |   |   |   |   |--- class: 0\n",
      "|   |   |   |   |   |   |   |   |   |   |--- age >  77.50\n",
      "|   |   |   |   |   |   |   |   |   |   |   |--- truncated branch of depth 4\n",
      "|   |   |   |   |   |   |   |   |   |--- hypertension >  0.50\n",
      "|   |   |   |   |   |   |   |   |   |   |--- avg_glucose_level <= 68.57\n",
      "|   |   |   |   |   |   |   |   |   |   |   |--- class: 0\n",
      "|   |   |   |   |   |   |   |   |   |   |--- avg_glucose_level >  68.57\n",
      "|   |   |   |   |   |   |   |   |   |   |   |--- class: 1\n",
      "|   |   |   |   |   |   |   |--- bmi >  28.55\n",
      "|   |   |   |   |   |   |   |   |--- avg_glucose_level <= 64.30\n",
      "|   |   |   |   |   |   |   |   |   |--- class: 1\n",
      "|   |   |   |   |   |   |   |   |--- avg_glucose_level >  64.30\n",
      "|   |   |   |   |   |   |   |   |   |--- class: 0\n",
      "|   |   |   |   |   |   |--- avg_glucose_level >  74.42\n",
      "|   |   |   |   |   |   |   |--- hypertension <= 0.50\n",
      "|   |   |   |   |   |   |   |   |--- bmi <= 28.10\n",
      "|   |   |   |   |   |   |   |   |   |--- class: 1\n",
      "|   |   |   |   |   |   |   |   |--- bmi >  28.10\n",
      "|   |   |   |   |   |   |   |   |   |--- class: 0\n",
      "|   |   |   |   |   |   |   |--- hypertension >  0.50\n",
      "|   |   |   |   |   |   |   |   |--- bmi <= 28.15\n",
      "|   |   |   |   |   |   |   |   |   |--- class: 0\n",
      "|   |   |   |   |   |   |   |   |--- bmi >  28.15\n",
      "|   |   |   |   |   |   |   |   |   |--- class: 1\n",
      "|   |   |   |   |   |--- bmi >  28.75\n",
      "|   |   |   |   |   |   |--- bmi <= 34.10\n",
      "|   |   |   |   |   |   |   |--- class: 0\n",
      "|   |   |   |   |   |   |--- bmi >  34.10\n",
      "|   |   |   |   |   |   |   |--- bmi <= 34.55\n",
      "|   |   |   |   |   |   |   |   |--- avg_glucose_level <= 68.63\n",
      "|   |   |   |   |   |   |   |   |   |--- class: 0\n",
      "|   |   |   |   |   |   |   |   |--- avg_glucose_level >  68.63\n",
      "|   |   |   |   |   |   |   |   |   |--- class: 1\n",
      "|   |   |   |   |   |   |   |--- bmi >  34.55\n",
      "|   |   |   |   |   |   |   |   |--- class: 0\n",
      "|   |   |   |   |--- age >  79.50\n",
      "|   |   |   |   |   |--- avg_glucose_level <= 64.30\n",
      "|   |   |   |   |   |   |--- bmi <= 31.05\n",
      "|   |   |   |   |   |   |   |--- class: 0\n",
      "|   |   |   |   |   |   |--- bmi >  31.05\n",
      "|   |   |   |   |   |   |   |--- Residence_type_n <= 0.50\n",
      "|   |   |   |   |   |   |   |   |--- class: 1\n",
      "|   |   |   |   |   |   |   |--- Residence_type_n >  0.50\n",
      "|   |   |   |   |   |   |   |   |--- class: 0\n",
      "|   |   |   |   |   |--- avg_glucose_level >  64.30\n",
      "|   |   |   |   |   |   |--- avg_glucose_level <= 69.43\n",
      "|   |   |   |   |   |   |   |--- class: 1\n",
      "|   |   |   |   |   |   |--- avg_glucose_level >  69.43\n",
      "|   |   |   |   |   |   |   |--- bmi <= 22.70\n",
      "|   |   |   |   |   |   |   |   |--- class: 1\n",
      "|   |   |   |   |   |   |   |--- bmi >  22.70\n",
      "|   |   |   |   |   |   |   |   |--- bmi <= 33.90\n",
      "|   |   |   |   |   |   |   |   |   |--- avg_glucose_level <= 72.64\n",
      "|   |   |   |   |   |   |   |   |   |   |--- class: 0\n",
      "|   |   |   |   |   |   |   |   |   |--- avg_glucose_level >  72.64\n",
      "|   |   |   |   |   |   |   |   |   |   |--- avg_glucose_level <= 72.87\n",
      "|   |   |   |   |   |   |   |   |   |   |   |--- class: 1\n",
      "|   |   |   |   |   |   |   |   |   |   |--- avg_glucose_level >  72.87\n",
      "|   |   |   |   |   |   |   |   |   |   |   |--- truncated branch of depth 2\n",
      "|   |   |   |   |   |   |   |   |--- bmi >  33.90\n",
      "|   |   |   |   |   |   |   |   |   |--- class: 1\n",
      "|   |   |   |--- avg_glucose_level >  78.74\n",
      "|   |   |   |   |--- avg_glucose_level <= 91.44\n",
      "|   |   |   |   |   |--- hypertension <= 0.50\n",
      "|   |   |   |   |   |   |--- age <= 69.50\n",
      "|   |   |   |   |   |   |   |--- work_type_n <= 1.00\n",
      "|   |   |   |   |   |   |   |   |--- class: 1\n",
      "|   |   |   |   |   |   |   |--- work_type_n >  1.00\n",
      "|   |   |   |   |   |   |   |   |--- class: 0\n",
      "|   |   |   |   |   |   |--- age >  69.50\n",
      "|   |   |   |   |   |   |   |--- class: 0\n",
      "|   |   |   |   |   |--- hypertension >  0.50\n",
      "|   |   |   |   |   |   |--- age <= 80.50\n",
      "|   |   |   |   |   |   |   |--- age <= 71.00\n",
      "|   |   |   |   |   |   |   |   |--- work_type_n <= 2.50\n",
      "|   |   |   |   |   |   |   |   |   |--- class: 0\n",
      "|   |   |   |   |   |   |   |   |--- work_type_n >  2.50\n",
      "|   |   |   |   |   |   |   |   |   |--- class: 1\n",
      "|   |   |   |   |   |   |   |--- age >  71.00\n",
      "|   |   |   |   |   |   |   |   |--- class: 0\n",
      "|   |   |   |   |   |   |--- age >  80.50\n",
      "|   |   |   |   |   |   |   |--- class: 1\n",
      "|   |   |   |   |--- avg_glucose_level >  91.44\n",
      "|   |   |   |   |   |--- avg_glucose_level <= 91.58\n",
      "|   |   |   |   |   |   |--- class: 1\n",
      "|   |   |   |   |   |--- avg_glucose_level >  91.58\n",
      "|   |   |   |   |   |   |--- avg_glucose_level <= 99.40\n",
      "|   |   |   |   |   |   |   |--- avg_glucose_level <= 99.12\n",
      "|   |   |   |   |   |   |   |   |--- avg_glucose_level <= 97.65\n",
      "|   |   |   |   |   |   |   |   |   |--- avg_glucose_level <= 93.83\n",
      "|   |   |   |   |   |   |   |   |   |   |--- avg_glucose_level <= 93.71\n",
      "|   |   |   |   |   |   |   |   |   |   |   |--- truncated branch of depth 5\n",
      "|   |   |   |   |   |   |   |   |   |   |--- avg_glucose_level >  93.71\n",
      "|   |   |   |   |   |   |   |   |   |   |   |--- class: 1\n",
      "|   |   |   |   |   |   |   |   |   |--- avg_glucose_level >  93.83\n",
      "|   |   |   |   |   |   |   |   |   |   |--- class: 0\n",
      "|   |   |   |   |   |   |   |   |--- avg_glucose_level >  97.65\n",
      "|   |   |   |   |   |   |   |   |   |--- avg_glucose_level <= 97.94\n",
      "|   |   |   |   |   |   |   |   |   |   |--- class: 1\n",
      "|   |   |   |   |   |   |   |   |   |--- avg_glucose_level >  97.94\n",
      "|   |   |   |   |   |   |   |   |   |   |--- gender_n <= 0.50\n",
      "|   |   |   |   |   |   |   |   |   |   |   |--- class: 0\n",
      "|   |   |   |   |   |   |   |   |   |   |--- gender_n >  0.50\n",
      "|   |   |   |   |   |   |   |   |   |   |   |--- truncated branch of depth 2\n",
      "|   |   |   |   |   |   |   |--- avg_glucose_level >  99.12\n",
      "|   |   |   |   |   |   |   |   |--- class: 1\n",
      "|   |   |   |   |   |   |--- avg_glucose_level >  99.40\n",
      "|   |   |   |   |   |   |   |--- class: 0\n",
      "|   |   |--- avg_glucose_level >  102.76\n",
      "|   |   |   |--- work_type_n <= 2.50\n",
      "|   |   |   |   |--- age <= 78.50\n",
      "|   |   |   |   |   |--- avg_glucose_level <= 219.63\n",
      "|   |   |   |   |   |   |--- avg_glucose_level <= 105.37\n",
      "|   |   |   |   |   |   |   |--- avg_glucose_level <= 104.42\n",
      "|   |   |   |   |   |   |   |   |--- avg_glucose_level <= 102.92\n",
      "|   |   |   |   |   |   |   |   |   |--- class: 1\n",
      "|   |   |   |   |   |   |   |   |--- avg_glucose_level >  102.92\n",
      "|   |   |   |   |   |   |   |   |   |--- class: 0\n",
      "|   |   |   |   |   |   |   |--- avg_glucose_level >  104.42\n",
      "|   |   |   |   |   |   |   |   |--- class: 1\n",
      "|   |   |   |   |   |   |--- avg_glucose_level >  105.37\n",
      "|   |   |   |   |   |   |   |--- hypertension <= 0.50\n",
      "|   |   |   |   |   |   |   |   |--- heart_disease <= 0.50\n",
      "|   |   |   |   |   |   |   |   |   |--- avg_glucose_level <= 137.38\n",
      "|   |   |   |   |   |   |   |   |   |   |--- bmi <= 32.70\n",
      "|   |   |   |   |   |   |   |   |   |   |   |--- class: 0\n",
      "|   |   |   |   |   |   |   |   |   |   |--- bmi >  32.70\n",
      "|   |   |   |   |   |   |   |   |   |   |   |--- truncated branch of depth 2\n",
      "|   |   |   |   |   |   |   |   |   |--- avg_glucose_level >  137.38\n",
      "|   |   |   |   |   |   |   |   |   |   |--- avg_glucose_level <= 141.79\n",
      "|   |   |   |   |   |   |   |   |   |   |   |--- class: 1\n",
      "|   |   |   |   |   |   |   |   |   |   |--- avg_glucose_level >  141.79\n",
      "|   |   |   |   |   |   |   |   |   |   |   |--- truncated branch of depth 9\n",
      "|   |   |   |   |   |   |   |   |--- heart_disease >  0.50\n",
      "|   |   |   |   |   |   |   |   |   |--- class: 0\n",
      "|   |   |   |   |   |   |   |--- hypertension >  0.50\n",
      "|   |   |   |   |   |   |   |   |--- class: 0\n",
      "|   |   |   |   |   |--- avg_glucose_level >  219.63\n",
      "|   |   |   |   |   |   |--- bmi <= 30.75\n",
      "|   |   |   |   |   |   |   |--- avg_glucose_level <= 221.79\n",
      "|   |   |   |   |   |   |   |   |--- age <= 72.00\n",
      "|   |   |   |   |   |   |   |   |   |--- class: 0\n",
      "|   |   |   |   |   |   |   |   |--- age >  72.00\n",
      "|   |   |   |   |   |   |   |   |   |--- class: 1\n",
      "|   |   |   |   |   |   |   |--- avg_glucose_level >  221.79\n",
      "|   |   |   |   |   |   |   |   |--- heart_disease <= 0.50\n",
      "|   |   |   |   |   |   |   |   |   |--- class: 0\n",
      "|   |   |   |   |   |   |   |   |--- heart_disease >  0.50\n",
      "|   |   |   |   |   |   |   |   |   |--- age <= 69.50\n",
      "|   |   |   |   |   |   |   |   |   |   |--- class: 0\n",
      "|   |   |   |   |   |   |   |   |   |--- age >  69.50\n",
      "|   |   |   |   |   |   |   |   |   |   |--- class: 1\n",
      "|   |   |   |   |   |   |--- bmi >  30.75\n",
      "|   |   |   |   |   |   |   |--- bmi <= 41.10\n",
      "|   |   |   |   |   |   |   |   |--- class: 1\n",
      "|   |   |   |   |   |   |   |--- bmi >  41.10\n",
      "|   |   |   |   |   |   |   |   |--- avg_glucose_level <= 233.76\n",
      "|   |   |   |   |   |   |   |   |   |--- class: 0\n",
      "|   |   |   |   |   |   |   |   |--- avg_glucose_level >  233.76\n",
      "|   |   |   |   |   |   |   |   |   |--- class: 1\n",
      "|   |   |   |   |--- age >  78.50\n",
      "|   |   |   |   |   |--- bmi <= 32.70\n",
      "|   |   |   |   |   |   |--- smoking_status_n <= 1.50\n",
      "|   |   |   |   |   |   |   |--- heart_disease <= 0.50\n",
      "|   |   |   |   |   |   |   |   |--- bmi <= 29.25\n",
      "|   |   |   |   |   |   |   |   |   |--- bmi <= 28.85\n",
      "|   |   |   |   |   |   |   |   |   |   |--- avg_glucose_level <= 116.27\n",
      "|   |   |   |   |   |   |   |   |   |   |   |--- truncated branch of depth 2\n",
      "|   |   |   |   |   |   |   |   |   |   |--- avg_glucose_level >  116.27\n",
      "|   |   |   |   |   |   |   |   |   |   |   |--- truncated branch of depth 5\n",
      "|   |   |   |   |   |   |   |   |   |--- bmi >  28.85\n",
      "|   |   |   |   |   |   |   |   |   |   |--- class: 1\n",
      "|   |   |   |   |   |   |   |   |--- bmi >  29.25\n",
      "|   |   |   |   |   |   |   |   |   |--- class: 0\n",
      "|   |   |   |   |   |   |   |--- heart_disease >  0.50\n",
      "|   |   |   |   |   |   |   |   |--- avg_glucose_level <= 188.33\n",
      "|   |   |   |   |   |   |   |   |   |--- class: 1\n",
      "|   |   |   |   |   |   |   |   |--- avg_glucose_level >  188.33\n",
      "|   |   |   |   |   |   |   |   |   |--- avg_glucose_level <= 213.74\n",
      "|   |   |   |   |   |   |   |   |   |   |--- class: 0\n",
      "|   |   |   |   |   |   |   |   |   |--- avg_glucose_level >  213.74\n",
      "|   |   |   |   |   |   |   |   |   |   |--- Residence_type_n <= 0.50\n",
      "|   |   |   |   |   |   |   |   |   |   |   |--- class: 0\n",
      "|   |   |   |   |   |   |   |   |   |   |--- Residence_type_n >  0.50\n",
      "|   |   |   |   |   |   |   |   |   |   |   |--- class: 1\n",
      "|   |   |   |   |   |   |--- smoking_status_n >  1.50\n",
      "|   |   |   |   |   |   |   |--- class: 0\n",
      "|   |   |   |   |   |--- bmi >  32.70\n",
      "|   |   |   |   |   |   |--- class: 0\n",
      "|   |   |   |--- work_type_n >  2.50\n",
      "|   |   |   |   |--- avg_glucose_level <= 199.86\n",
      "|   |   |   |   |   |--- avg_glucose_level <= 132.52\n",
      "|   |   |   |   |   |   |--- age <= 75.50\n",
      "|   |   |   |   |   |   |   |--- class: 0\n",
      "|   |   |   |   |   |   |--- age >  75.50\n",
      "|   |   |   |   |   |   |   |--- age <= 78.50\n",
      "|   |   |   |   |   |   |   |   |--- bmi <= 25.45\n",
      "|   |   |   |   |   |   |   |   |   |--- class: 0\n",
      "|   |   |   |   |   |   |   |   |--- bmi >  25.45\n",
      "|   |   |   |   |   |   |   |   |   |--- avg_glucose_level <= 113.08\n",
      "|   |   |   |   |   |   |   |   |   |   |--- smoking_status_n <= 0.50\n",
      "|   |   |   |   |   |   |   |   |   |   |   |--- class: 1\n",
      "|   |   |   |   |   |   |   |   |   |   |--- smoking_status_n >  0.50\n",
      "|   |   |   |   |   |   |   |   |   |   |   |--- class: 0\n",
      "|   |   |   |   |   |   |   |   |   |--- avg_glucose_level >  113.08\n",
      "|   |   |   |   |   |   |   |   |   |   |--- class: 1\n",
      "|   |   |   |   |   |   |   |--- age >  78.50\n",
      "|   |   |   |   |   |   |   |   |--- avg_glucose_level <= 105.03\n",
      "|   |   |   |   |   |   |   |   |   |--- avg_glucose_level <= 104.10\n",
      "|   |   |   |   |   |   |   |   |   |   |--- class: 0\n",
      "|   |   |   |   |   |   |   |   |   |--- avg_glucose_level >  104.10\n",
      "|   |   |   |   |   |   |   |   |   |   |--- class: 1\n",
      "|   |   |   |   |   |   |   |   |--- avg_glucose_level >  105.03\n",
      "|   |   |   |   |   |   |   |   |   |--- class: 0\n",
      "|   |   |   |   |   |--- avg_glucose_level >  132.52\n",
      "|   |   |   |   |   |   |--- avg_glucose_level <= 138.72\n",
      "|   |   |   |   |   |   |   |--- class: 1\n",
      "|   |   |   |   |   |   |--- avg_glucose_level >  138.72\n",
      "|   |   |   |   |   |   |   |--- avg_glucose_level <= 198.45\n",
      "|   |   |   |   |   |   |   |   |--- age <= 73.50\n",
      "|   |   |   |   |   |   |   |   |   |--- gender_n <= 0.50\n",
      "|   |   |   |   |   |   |   |   |   |   |--- class: 0\n",
      "|   |   |   |   |   |   |   |   |   |--- gender_n >  0.50\n",
      "|   |   |   |   |   |   |   |   |   |   |--- avg_glucose_level <= 195.33\n",
      "|   |   |   |   |   |   |   |   |   |   |   |--- class: 1\n",
      "|   |   |   |   |   |   |   |   |   |   |--- avg_glucose_level >  195.33\n",
      "|   |   |   |   |   |   |   |   |   |   |   |--- class: 0\n",
      "|   |   |   |   |   |   |   |   |--- age >  73.50\n",
      "|   |   |   |   |   |   |   |   |   |--- avg_glucose_level <= 174.33\n",
      "|   |   |   |   |   |   |   |   |   |   |--- avg_glucose_level <= 157.26\n",
      "|   |   |   |   |   |   |   |   |   |   |   |--- class: 0\n",
      "|   |   |   |   |   |   |   |   |   |   |--- avg_glucose_level >  157.26\n",
      "|   |   |   |   |   |   |   |   |   |   |   |--- truncated branch of depth 2\n",
      "|   |   |   |   |   |   |   |   |   |--- avg_glucose_level >  174.33\n",
      "|   |   |   |   |   |   |   |   |   |   |--- class: 0\n",
      "|   |   |   |   |   |   |   |--- avg_glucose_level >  198.45\n",
      "|   |   |   |   |   |   |   |   |--- class: 1\n",
      "|   |   |   |   |--- avg_glucose_level >  199.86\n",
      "|   |   |   |   |   |--- bmi <= 26.90\n",
      "|   |   |   |   |   |   |--- bmi <= 26.10\n",
      "|   |   |   |   |   |   |   |--- class: 0\n",
      "|   |   |   |   |   |   |--- bmi >  26.10\n",
      "|   |   |   |   |   |   |   |--- Residence_type_n <= 0.50\n",
      "|   |   |   |   |   |   |   |   |--- class: 0\n",
      "|   |   |   |   |   |   |   |--- Residence_type_n >  0.50\n",
      "|   |   |   |   |   |   |   |   |--- class: 1\n",
      "|   |   |   |   |   |--- bmi >  26.90\n",
      "|   |   |   |   |   |   |--- class: 0\n",
      "\n"
     ]
    }
   ],
   "source": [
    "text_representation = tree.export_text(model, feature_names=['age', 'hypertension',\t'heart_disease','avg_glucose_level','bmi',\t'gender_n',\t'ever_married_n',\t'work_type_n',\t'Residence_type_n','smoking_status_n'])\n",
    "print(text_representation)"
   ]
  }
 ],
 "metadata": {
  "kernelspec": {
   "display_name": "Python 3 (ipykernel)",
   "language": "python",
   "name": "python3"
  },
  "language_info": {
   "codemirror_mode": {
    "name": "ipython",
    "version": 3
   },
   "file_extension": ".py",
   "mimetype": "text/x-python",
   "name": "python",
   "nbconvert_exporter": "python",
   "pygments_lexer": "ipython3",
   "version": "3.10.2"
  }
 },
 "nbformat": 4,
 "nbformat_minor": 1
}